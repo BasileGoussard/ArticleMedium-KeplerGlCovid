{
 "cells": [
  {
   "cell_type": "code",
   "execution_count": 33,
   "metadata": {},
   "outputs": [],
   "source": [
    "import os\n",
    "import glob\n",
    "\n",
    "import matplotlib.pyplot as plt\n",
    "\n",
    "import pandas as pd\n",
    "import geopandas as gpd\n",
    "\n",
    "from keplergl import KeplerGl"
   ]
  },
  {
   "cell_type": "markdown",
   "metadata": {},
   "source": [
    "# Data"
   ]
  },
  {
   "cell_type": "markdown",
   "metadata": {},
   "source": [
    "### CSV"
   ]
  },
  {
   "cell_type": "markdown",
   "metadata": {},
   "source": [
    "### gouv data"
   ]
  },
  {
   "cell_type": "code",
   "execution_count": 34,
   "metadata": {},
   "outputs": [
    {
     "data": {
      "text/html": [
       "<div>\n",
       "<style scoped>\n",
       "    .dataframe tbody tr th:only-of-type {\n",
       "        vertical-align: middle;\n",
       "    }\n",
       "\n",
       "    .dataframe tbody tr th {\n",
       "        vertical-align: top;\n",
       "    }\n",
       "\n",
       "    .dataframe thead th {\n",
       "        text-align: right;\n",
       "    }\n",
       "</style>\n",
       "<table border=\"1\" class=\"dataframe\">\n",
       "  <thead>\n",
       "    <tr style=\"text-align: right;\">\n",
       "      <th></th>\n",
       "      <th>dep</th>\n",
       "      <th>sexe</th>\n",
       "      <th>jour</th>\n",
       "      <th>hosp</th>\n",
       "      <th>rea</th>\n",
       "      <th>rad</th>\n",
       "      <th>dc</th>\n",
       "    </tr>\n",
       "  </thead>\n",
       "  <tbody>\n",
       "    <tr>\n",
       "      <th>0</th>\n",
       "      <td>01</td>\n",
       "      <td>0</td>\n",
       "      <td>2020-03-18</td>\n",
       "      <td>2</td>\n",
       "      <td>0</td>\n",
       "      <td>1</td>\n",
       "      <td>0</td>\n",
       "    </tr>\n",
       "    <tr>\n",
       "      <th>1</th>\n",
       "      <td>01</td>\n",
       "      <td>1</td>\n",
       "      <td>2020-03-18</td>\n",
       "      <td>1</td>\n",
       "      <td>0</td>\n",
       "      <td>1</td>\n",
       "      <td>0</td>\n",
       "    </tr>\n",
       "    <tr>\n",
       "      <th>2</th>\n",
       "      <td>01</td>\n",
       "      <td>2</td>\n",
       "      <td>2020-03-18</td>\n",
       "      <td>1</td>\n",
       "      <td>0</td>\n",
       "      <td>0</td>\n",
       "      <td>0</td>\n",
       "    </tr>\n",
       "    <tr>\n",
       "      <th>3</th>\n",
       "      <td>02</td>\n",
       "      <td>0</td>\n",
       "      <td>2020-03-18</td>\n",
       "      <td>41</td>\n",
       "      <td>10</td>\n",
       "      <td>18</td>\n",
       "      <td>11</td>\n",
       "    </tr>\n",
       "    <tr>\n",
       "      <th>4</th>\n",
       "      <td>02</td>\n",
       "      <td>1</td>\n",
       "      <td>2020-03-18</td>\n",
       "      <td>19</td>\n",
       "      <td>4</td>\n",
       "      <td>11</td>\n",
       "      <td>6</td>\n",
       "    </tr>\n",
       "  </tbody>\n",
       "</table>\n",
       "</div>"
      ],
      "text/plain": [
       "  dep  sexe        jour  hosp  rea  rad  dc\n",
       "0  01     0  2020-03-18     2    0    1   0\n",
       "1  01     1  2020-03-18     1    0    1   0\n",
       "2  01     2  2020-03-18     1    0    0   0\n",
       "3  02     0  2020-03-18    41   10   18  11\n",
       "4  02     1  2020-03-18    19    4   11   6"
      ]
     },
     "execution_count": 34,
     "metadata": {},
     "output_type": "execute_result"
    }
   ],
   "source": [
    "#gouv data\n",
    "covid_gouv = 'data/donnees-hospitalieres-covid19-2020-04-13-19h00.csv'\n",
    "df_gouv    = pd.read_csv(covid_gouv, delimiter = ';')\n",
    "\n",
    "df_gouv.head()"
   ]
  },
  {
   "cell_type": "code",
   "execution_count": 35,
   "metadata": {},
   "outputs": [],
   "source": [
    "#day data\n",
    "df_jour = df_gouv['jour'].drop_duplicates()\n",
    "max = df_jour.max()"
   ]
  },
  {
   "cell_type": "code",
   "execution_count": 36,
   "metadata": {},
   "outputs": [
    {
     "data": {
      "text/html": [
       "<div>\n",
       "<style scoped>\n",
       "    .dataframe tbody tr th:only-of-type {\n",
       "        vertical-align: middle;\n",
       "    }\n",
       "\n",
       "    .dataframe tbody tr th {\n",
       "        vertical-align: top;\n",
       "    }\n",
       "\n",
       "    .dataframe thead th {\n",
       "        text-align: right;\n",
       "    }\n",
       "</style>\n",
       "<table border=\"1\" class=\"dataframe\">\n",
       "  <thead>\n",
       "    <tr style=\"text-align: right;\">\n",
       "      <th></th>\n",
       "      <th>jour</th>\n",
       "      <th>hosp</th>\n",
       "      <th>rea</th>\n",
       "      <th>rad</th>\n",
       "      <th>dc</th>\n",
       "    </tr>\n",
       "    <tr>\n",
       "      <th>code</th>\n",
       "      <th></th>\n",
       "      <th></th>\n",
       "      <th></th>\n",
       "      <th></th>\n",
       "      <th></th>\n",
       "    </tr>\n",
       "  </thead>\n",
       "  <tbody>\n",
       "    <tr>\n",
       "      <th>01</th>\n",
       "      <td>2020-04-13</td>\n",
       "      <td>120</td>\n",
       "      <td>30</td>\n",
       "      <td>139</td>\n",
       "      <td>44</td>\n",
       "    </tr>\n",
       "    <tr>\n",
       "      <th>02</th>\n",
       "      <td>2020-04-13</td>\n",
       "      <td>286</td>\n",
       "      <td>44</td>\n",
       "      <td>288</td>\n",
       "      <td>147</td>\n",
       "    </tr>\n",
       "    <tr>\n",
       "      <th>03</th>\n",
       "      <td>2020-04-13</td>\n",
       "      <td>58</td>\n",
       "      <td>20</td>\n",
       "      <td>82</td>\n",
       "      <td>13</td>\n",
       "    </tr>\n",
       "    <tr>\n",
       "      <th>04</th>\n",
       "      <td>2020-04-13</td>\n",
       "      <td>33</td>\n",
       "      <td>4</td>\n",
       "      <td>63</td>\n",
       "      <td>5</td>\n",
       "    </tr>\n",
       "    <tr>\n",
       "      <th>05</th>\n",
       "      <td>2020-04-13</td>\n",
       "      <td>49</td>\n",
       "      <td>13</td>\n",
       "      <td>70</td>\n",
       "      <td>3</td>\n",
       "    </tr>\n",
       "  </tbody>\n",
       "</table>\n",
       "</div>"
      ],
      "text/plain": [
       "            jour  hosp  rea  rad   dc\n",
       "code                                 \n",
       "01    2020-04-13   120   30  139   44\n",
       "02    2020-04-13   286   44  288  147\n",
       "03    2020-04-13    58   20   82   13\n",
       "04    2020-04-13    33    4   63    5\n",
       "05    2020-04-13    49   13   70    3"
      ]
     },
     "execution_count": 36,
     "metadata": {},
     "output_type": "execute_result"
    }
   ],
   "source": [
    "#gouv preprocessing\n",
    "df_gouv['code'] = df_gouv['dep']\n",
    "\n",
    "temp_df = dict()\n",
    "for i in df_jour :\n",
    "    temp_df[i] = df_gouv.loc[ df_gouv['jour'] == i]\n",
    "dict_df = dict()\n",
    "for key, df in temp_df.items() :\n",
    "    dict_df[key] = df.groupby('code').max().drop(['sexe','dep'], axis=1)\n",
    "    \n",
    "dict_df[max].head()"
   ]
  },
  {
   "cell_type": "markdown",
   "metadata": {},
   "source": [
    "### demographic data"
   ]
  },
  {
   "cell_type": "code",
   "execution_count": 37,
   "metadata": {},
   "outputs": [
    {
     "data": {
      "text/html": [
       "<div>\n",
       "<style scoped>\n",
       "    .dataframe tbody tr th:only-of-type {\n",
       "        vertical-align: middle;\n",
       "    }\n",
       "\n",
       "    .dataframe tbody tr th {\n",
       "        vertical-align: top;\n",
       "    }\n",
       "\n",
       "    .dataframe thead th {\n",
       "        text-align: right;\n",
       "    }\n",
       "</style>\n",
       "<table border=\"1\" class=\"dataframe\">\n",
       "  <thead>\n",
       "    <tr style=\"text-align: right;\">\n",
       "      <th></th>\n",
       "      <th>nom</th>\n",
       "      <th>Superficie</th>\n",
       "      <th>Population</th>\n",
       "      <th>Densite</th>\n",
       "    </tr>\n",
       "    <tr>\n",
       "      <th>code</th>\n",
       "      <th></th>\n",
       "      <th></th>\n",
       "      <th></th>\n",
       "      <th></th>\n",
       "    </tr>\n",
       "  </thead>\n",
       "  <tbody>\n",
       "    <tr>\n",
       "      <th>01</th>\n",
       "      <td>Ain</td>\n",
       "      <td>5762</td>\n",
       "      <td>631877</td>\n",
       "      <td>109.7</td>\n",
       "    </tr>\n",
       "    <tr>\n",
       "      <th>02</th>\n",
       "      <td>Aisne</td>\n",
       "      <td>7369</td>\n",
       "      <td>538659</td>\n",
       "      <td>73.1</td>\n",
       "    </tr>\n",
       "    <tr>\n",
       "      <th>03</th>\n",
       "      <td>Allier</td>\n",
       "      <td>7340</td>\n",
       "      <td>341613</td>\n",
       "      <td>46.5</td>\n",
       "    </tr>\n",
       "    <tr>\n",
       "      <th>04</th>\n",
       "      <td>Alpes-de-Haute-Provence</td>\n",
       "      <td>6925</td>\n",
       "      <td>161799</td>\n",
       "      <td>23.4</td>\n",
       "    </tr>\n",
       "    <tr>\n",
       "      <th>05</th>\n",
       "      <td>Hautes-Alpes</td>\n",
       "      <td>5549</td>\n",
       "      <td>140916</td>\n",
       "      <td>25.4</td>\n",
       "    </tr>\n",
       "  </tbody>\n",
       "</table>\n",
       "</div>"
      ],
      "text/plain": [
       "                          nom  Superficie  Population  Densite\n",
       "code                                                          \n",
       "01                        Ain        5762      631877    109.7\n",
       "02                      Aisne        7369      538659     73.1\n",
       "03                     Allier        7340      341613     46.5\n",
       "04    Alpes-de-Haute-Provence        6925      161799     23.4\n",
       "05               Hautes-Alpes        5549      140916     25.4"
      ]
     },
     "execution_count": 37,
     "metadata": {},
     "output_type": "execute_result"
    }
   ],
   "source": [
    "# Source : https://www.regions-et-departements.fr/departements-francais\n",
    "demographie = 'data/demographie (3).csv'\n",
    "df_de       = pd.read_csv(demographie, delimiter = ',')\n",
    "df_de       = df_de.set_index('code')\n",
    "\n",
    "df_de.head()"
   ]
  },
  {
   "cell_type": "code",
   "execution_count": 38,
   "metadata": {},
   "outputs": [
    {
     "data": {
      "text/html": [
       "<div>\n",
       "<style scoped>\n",
       "    .dataframe tbody tr th:only-of-type {\n",
       "        vertical-align: middle;\n",
       "    }\n",
       "\n",
       "    .dataframe tbody tr th {\n",
       "        vertical-align: top;\n",
       "    }\n",
       "\n",
       "    .dataframe thead th {\n",
       "        text-align: right;\n",
       "    }\n",
       "</style>\n",
       "<table border=\"1\" class=\"dataframe\">\n",
       "  <thead>\n",
       "    <tr style=\"text-align: right;\">\n",
       "      <th></th>\n",
       "      <th>Ensemble</th>\n",
       "      <th>Part des femmes (en %)</th>\n",
       "      <th>Part des hommes (en %)</th>\n",
       "      <th>Part des 0 à 24 ans (en %)</th>\n",
       "      <th>Part des 25 à 59 ans (en %)</th>\n",
       "      <th>Part des 60 ans ou plus (en %)</th>\n",
       "      <th>dont part des 75 ans ou plus (en %)</th>\n",
       "    </tr>\n",
       "    <tr>\n",
       "      <th>code</th>\n",
       "      <th></th>\n",
       "      <th></th>\n",
       "      <th></th>\n",
       "      <th></th>\n",
       "      <th></th>\n",
       "      <th></th>\n",
       "      <th></th>\n",
       "    </tr>\n",
       "  </thead>\n",
       "  <tbody>\n",
       "    <tr>\n",
       "      <th>01</th>\n",
       "      <td>656955.0</td>\n",
       "      <td>50.8</td>\n",
       "      <td>49.2</td>\n",
       "      <td>30.2</td>\n",
       "      <td>45.6</td>\n",
       "      <td>24.2</td>\n",
       "      <td>8.3</td>\n",
       "    </tr>\n",
       "    <tr>\n",
       "      <th>02</th>\n",
       "      <td>526050.0</td>\n",
       "      <td>51.1</td>\n",
       "      <td>48.9</td>\n",
       "      <td>29.5</td>\n",
       "      <td>42.6</td>\n",
       "      <td>27.9</td>\n",
       "      <td>9.3</td>\n",
       "    </tr>\n",
       "    <tr>\n",
       "      <th>03</th>\n",
       "      <td>331315.0</td>\n",
       "      <td>52.2</td>\n",
       "      <td>47.8</td>\n",
       "      <td>24.3</td>\n",
       "      <td>40.2</td>\n",
       "      <td>35.6</td>\n",
       "      <td>13.8</td>\n",
       "    </tr>\n",
       "    <tr>\n",
       "      <th>04</th>\n",
       "      <td>165197.0</td>\n",
       "      <td>51.2</td>\n",
       "      <td>48.8</td>\n",
       "      <td>24.5</td>\n",
       "      <td>41.2</td>\n",
       "      <td>34.3</td>\n",
       "      <td>12.7</td>\n",
       "    </tr>\n",
       "    <tr>\n",
       "      <th>05</th>\n",
       "      <td>141756.0</td>\n",
       "      <td>51.2</td>\n",
       "      <td>48.8</td>\n",
       "      <td>25.2</td>\n",
       "      <td>42.4</td>\n",
       "      <td>32.4</td>\n",
       "      <td>11.9</td>\n",
       "    </tr>\n",
       "  </tbody>\n",
       "</table>\n",
       "</div>"
      ],
      "text/plain": [
       "      Ensemble  Part des femmes (en %)  Part des hommes (en %)  \\\n",
       "code                                                             \n",
       "01    656955.0                    50.8                    49.2   \n",
       "02    526050.0                    51.1                    48.9   \n",
       "03    331315.0                    52.2                    47.8   \n",
       "04    165197.0                    51.2                    48.8   \n",
       "05    141756.0                    51.2                    48.8   \n",
       "\n",
       "      Part des 0 à 24 ans (en %)  Part des 25 à 59 ans (en %)  \\\n",
       "code                                                            \n",
       "01                          30.2                         45.6   \n",
       "02                          29.5                         42.6   \n",
       "03                          24.3                         40.2   \n",
       "04                          24.5                         41.2   \n",
       "05                          25.2                         42.4   \n",
       "\n",
       "      Part des 60 ans ou plus (en %)  dont part des 75 ans ou plus (en %)  \n",
       "code                                                                       \n",
       "01                              24.2                                  8.3  \n",
       "02                              27.9                                  9.3  \n",
       "03                              35.6                                 13.8  \n",
       "04                              34.3                                 12.7  \n",
       "05                              32.4                                 11.9  "
      ]
     },
     "execution_count": 38,
     "metadata": {},
     "output_type": "execute_result"
    }
   ],
   "source": [
    "#Source : https://www.insee.fr/fr/statistiques/2012692#graphique-TCRD_021_tab1_departements\n",
    "demographie_1  = 'data/TCRD_021.csv'\n",
    "df_de1         = pd.read_csv(demographie_1, delimiter = ',')\n",
    "df_de1['code'] = df_de1['Unnamed: 0']\n",
    "df_de1         = df_de1.set_index('code').drop(['Unnamed: 0','Unnamed: 1'], axis =1 )\n",
    "df_de1         = df_de1.dropna()\n",
    "\n",
    "df_de1.head()"
   ]
  },
  {
   "cell_type": "markdown",
   "metadata": {},
   "source": [
    "### Geospatial data"
   ]
  },
  {
   "cell_type": "code",
   "execution_count": 40,
   "metadata": {},
   "outputs": [
    {
     "data": {
      "text/html": [
       "<div>\n",
       "<style scoped>\n",
       "    .dataframe tbody tr th:only-of-type {\n",
       "        vertical-align: middle;\n",
       "    }\n",
       "\n",
       "    .dataframe tbody tr th {\n",
       "        vertical-align: top;\n",
       "    }\n",
       "\n",
       "    .dataframe thead th {\n",
       "        text-align: right;\n",
       "    }\n",
       "</style>\n",
       "<table border=\"1\" class=\"dataframe\">\n",
       "  <thead>\n",
       "    <tr style=\"text-align: right;\">\n",
       "      <th></th>\n",
       "      <th>nom</th>\n",
       "      <th>geometry</th>\n",
       "    </tr>\n",
       "    <tr>\n",
       "      <th>code</th>\n",
       "      <th></th>\n",
       "      <th></th>\n",
       "    </tr>\n",
       "  </thead>\n",
       "  <tbody>\n",
       "    <tr>\n",
       "      <th>01</th>\n",
       "      <td>Ain</td>\n",
       "      <td>POLYGON ((4.78021 46.17668, 4.78024 46.18905, ...</td>\n",
       "    </tr>\n",
       "    <tr>\n",
       "      <th>02</th>\n",
       "      <td>Aisne</td>\n",
       "      <td>POLYGON ((3.17296 50.01131, 3.17382 50.01186, ...</td>\n",
       "    </tr>\n",
       "    <tr>\n",
       "      <th>03</th>\n",
       "      <td>Allier</td>\n",
       "      <td>POLYGON ((3.03207 46.79491, 3.03424 46.79080, ...</td>\n",
       "    </tr>\n",
       "    <tr>\n",
       "      <th>04</th>\n",
       "      <td>Alpes-de-Haute-Provence</td>\n",
       "      <td>POLYGON ((5.67604 44.19143, 5.67817 44.19051, ...</td>\n",
       "    </tr>\n",
       "    <tr>\n",
       "      <th>05</th>\n",
       "      <td>Hautes-Alpes</td>\n",
       "      <td>POLYGON ((6.26057 45.12685, 6.26417 45.12641, ...</td>\n",
       "    </tr>\n",
       "  </tbody>\n",
       "</table>\n",
       "</div>"
      ],
      "text/plain": [
       "                          nom  \\\n",
       "code                            \n",
       "01                        Ain   \n",
       "02                      Aisne   \n",
       "03                     Allier   \n",
       "04    Alpes-de-Haute-Provence   \n",
       "05               Hautes-Alpes   \n",
       "\n",
       "                                               geometry  \n",
       "code                                                     \n",
       "01    POLYGON ((4.78021 46.17668, 4.78024 46.18905, ...  \n",
       "02    POLYGON ((3.17296 50.01131, 3.17382 50.01186, ...  \n",
       "03    POLYGON ((3.03207 46.79491, 3.03424 46.79080, ...  \n",
       "04    POLYGON ((5.67604 44.19143, 5.67817 44.19051, ...  \n",
       "05    POLYGON ((6.26057 45.12685, 6.26417 45.12641, ...  "
      ]
     },
     "execution_count": 40,
     "metadata": {},
     "output_type": "execute_result"
    }
   ],
   "source": [
    "geospatial_data  = 'data/departements-avec-outre-mer.geojson'\n",
    "f = gpd.read_file(geospatial_data)\n",
    "f = f.set_index('code')\n",
    "f = f.sort_index(axis=0)\n",
    "\n",
    "f.head()"
   ]
  },
  {
   "cell_type": "markdown",
   "metadata": {},
   "source": [
    "# DataFrame Coronavirus"
   ]
  },
  {
   "cell_type": "code",
   "execution_count": 41,
   "metadata": {},
   "outputs": [
    {
     "data": {
      "text/html": [
       "<div>\n",
       "<style scoped>\n",
       "    .dataframe tbody tr th:only-of-type {\n",
       "        vertical-align: middle;\n",
       "    }\n",
       "\n",
       "    .dataframe tbody tr th {\n",
       "        vertical-align: top;\n",
       "    }\n",
       "\n",
       "    .dataframe thead th {\n",
       "        text-align: right;\n",
       "    }\n",
       "</style>\n",
       "<table border=\"1\" class=\"dataframe\">\n",
       "  <thead>\n",
       "    <tr style=\"text-align: right;\">\n",
       "      <th></th>\n",
       "      <th>nom</th>\n",
       "      <th>geometry</th>\n",
       "      <th>jour</th>\n",
       "      <th>hosp</th>\n",
       "      <th>rea</th>\n",
       "      <th>rad</th>\n",
       "      <th>dc</th>\n",
       "      <th>dc/densite</th>\n",
       "      <th>people older than 75 year (%)</th>\n",
       "      <th>dc/population</th>\n",
       "      <th>dc/cumul hospitalise</th>\n",
       "      <th>cumul hopitalise / population</th>\n",
       "    </tr>\n",
       "    <tr>\n",
       "      <th>code</th>\n",
       "      <th></th>\n",
       "      <th></th>\n",
       "      <th></th>\n",
       "      <th></th>\n",
       "      <th></th>\n",
       "      <th></th>\n",
       "      <th></th>\n",
       "      <th></th>\n",
       "      <th></th>\n",
       "      <th></th>\n",
       "      <th></th>\n",
       "      <th></th>\n",
       "    </tr>\n",
       "  </thead>\n",
       "  <tbody>\n",
       "    <tr>\n",
       "      <th>01</th>\n",
       "      <td>Ain</td>\n",
       "      <td>POLYGON ((4.78021 46.17668, 4.78024 46.18905, ...</td>\n",
       "      <td>2020-04-13</td>\n",
       "      <td>120</td>\n",
       "      <td>30</td>\n",
       "      <td>139</td>\n",
       "      <td>44</td>\n",
       "      <td>0.401094</td>\n",
       "      <td>8.3</td>\n",
       "      <td>0.000070</td>\n",
       "      <td>0.169884</td>\n",
       "      <td>0.000410</td>\n",
       "    </tr>\n",
       "    <tr>\n",
       "      <th>02</th>\n",
       "      <td>Aisne</td>\n",
       "      <td>POLYGON ((3.17296 50.01131, 3.17382 50.01186, ...</td>\n",
       "      <td>2020-04-13</td>\n",
       "      <td>286</td>\n",
       "      <td>44</td>\n",
       "      <td>288</td>\n",
       "      <td>147</td>\n",
       "      <td>2.010944</td>\n",
       "      <td>9.3</td>\n",
       "      <td>0.000273</td>\n",
       "      <td>0.256098</td>\n",
       "      <td>0.001066</td>\n",
       "    </tr>\n",
       "    <tr>\n",
       "      <th>03</th>\n",
       "      <td>Allier</td>\n",
       "      <td>POLYGON ((3.03207 46.79491, 3.03424 46.79080, ...</td>\n",
       "      <td>2020-04-13</td>\n",
       "      <td>58</td>\n",
       "      <td>20</td>\n",
       "      <td>82</td>\n",
       "      <td>13</td>\n",
       "      <td>0.279570</td>\n",
       "      <td>13.8</td>\n",
       "      <td>0.000038</td>\n",
       "      <td>0.092857</td>\n",
       "      <td>0.000410</td>\n",
       "    </tr>\n",
       "    <tr>\n",
       "      <th>04</th>\n",
       "      <td>Alpes-de-Haute-Provence</td>\n",
       "      <td>POLYGON ((5.67604 44.19143, 5.67817 44.19051, ...</td>\n",
       "      <td>2020-04-13</td>\n",
       "      <td>33</td>\n",
       "      <td>4</td>\n",
       "      <td>63</td>\n",
       "      <td>5</td>\n",
       "      <td>0.213675</td>\n",
       "      <td>12.7</td>\n",
       "      <td>0.000031</td>\n",
       "      <td>0.052083</td>\n",
       "      <td>0.000593</td>\n",
       "    </tr>\n",
       "    <tr>\n",
       "      <th>05</th>\n",
       "      <td>Hautes-Alpes</td>\n",
       "      <td>POLYGON ((6.26057 45.12685, 6.26417 45.12641, ...</td>\n",
       "      <td>2020-04-13</td>\n",
       "      <td>49</td>\n",
       "      <td>13</td>\n",
       "      <td>70</td>\n",
       "      <td>3</td>\n",
       "      <td>0.118110</td>\n",
       "      <td>11.9</td>\n",
       "      <td>0.000021</td>\n",
       "      <td>0.025210</td>\n",
       "      <td>0.000844</td>\n",
       "    </tr>\n",
       "  </tbody>\n",
       "</table>\n",
       "</div>"
      ],
      "text/plain": [
       "                          nom  \\\n",
       "code                            \n",
       "01                        Ain   \n",
       "02                      Aisne   \n",
       "03                     Allier   \n",
       "04    Alpes-de-Haute-Provence   \n",
       "05               Hautes-Alpes   \n",
       "\n",
       "                                               geometry        jour  hosp  \\\n",
       "code                                                                        \n",
       "01    POLYGON ((4.78021 46.17668, 4.78024 46.18905, ...  2020-04-13   120   \n",
       "02    POLYGON ((3.17296 50.01131, 3.17382 50.01186, ...  2020-04-13   286   \n",
       "03    POLYGON ((3.03207 46.79491, 3.03424 46.79080, ...  2020-04-13    58   \n",
       "04    POLYGON ((5.67604 44.19143, 5.67817 44.19051, ...  2020-04-13    33   \n",
       "05    POLYGON ((6.26057 45.12685, 6.26417 45.12641, ...  2020-04-13    49   \n",
       "\n",
       "      rea  rad   dc  dc/densite  people older than 75 year (%)  dc/population  \\\n",
       "code                                                                            \n",
       "01     30  139   44    0.401094                            8.3       0.000070   \n",
       "02     44  288  147    2.010944                            9.3       0.000273   \n",
       "03     20   82   13    0.279570                           13.8       0.000038   \n",
       "04      4   63    5    0.213675                           12.7       0.000031   \n",
       "05     13   70    3    0.118110                           11.9       0.000021   \n",
       "\n",
       "      dc/cumul hospitalise  cumul hopitalise / population  \n",
       "code                                                       \n",
       "01                0.169884                       0.000410  \n",
       "02                0.256098                       0.001066  \n",
       "03                0.092857                       0.000410  \n",
       "04                0.052083                       0.000593  \n",
       "05                0.025210                       0.000844  "
      ]
     },
     "execution_count": 41,
     "metadata": {},
     "output_type": "execute_result"
    }
   ],
   "source": [
    "#Vous pouvez construire votre indicateur ici\n",
    "\n",
    "dict_coronavirus = dict()\n",
    "for i in df_jour :\n",
    "    dict_coronavirus[i] = pd.concat([f,dict_df[i]], axis = 1)\n",
    "    dict_coronavirus[i]['dc/densite']    = dict_coronavirus[i]['dc'] / df_de['Densite']\n",
    "    dict_coronavirus[i]['people older than 75 year (%)'] = df_de1['dont part des 75 ans ou plus (en %)']\n",
    "    dict_coronavirus[i]['dc/population'] = dict_coronavirus[i]['dc'] / df_de['Population']\n",
    "    dict_coronavirus[i]['dc/cumul hospitalise'] = dict_coronavirus[i]['dc'] / (dict_coronavirus[i]['hosp']+dict_coronavirus[i]['rad'])\n",
    "    dict_coronavirus[i]['cumul hopitalise / population']     = (dict_coronavirus[i]['hosp']+dict_coronavirus[i]['rad']) / df_de['Population']\n",
    "\n",
    "dict_coronavirus[max].head()"
   ]
  },
  {
   "cell_type": "markdown",
   "metadata": {},
   "source": [
    "## Stats"
   ]
  },
  {
   "cell_type": "code",
   "execution_count": 42,
   "metadata": {},
   "outputs": [],
   "source": [
    "df_stats = dict_coronavirus[max]"
   ]
  },
  {
   "cell_type": "code",
   "execution_count": 43,
   "metadata": {},
   "outputs": [
    {
     "data": {
      "text/plain": [
       "Index(['nom', 'geometry', 'jour', 'hosp', 'rea', 'rad', 'dc',\n",
       "       'people older than 75 year (%)', 'décés/cumul hospitalisé',\n",
       "       'décés/densite', 'décés/population'],\n",
       "      dtype='object')"
      ]
     },
     "execution_count": 43,
     "metadata": {},
     "output_type": "execute_result"
    }
   ],
   "source": [
    "threshold = 400\n",
    "\n",
    "df_stats['décés/cumul hospitalisé'] = df_stats.loc[(df_stats.hosp + df_stats.rad) > threshold]['dc/cumul hospitalise']\n",
    "df_stats['décés/cumul hospitalisé'] = df_stats['décés/cumul hospitalisé'].fillna(0)\n",
    "\n",
    "df_stats['décés/densite'] = df_stats.loc[(df_stats.hosp + df_stats.rad) > threshold]['dc/densite']\n",
    "df_stats['décés/densite'] = df_stats['décés/densite'].fillna(0)\n",
    "\n",
    "df_stats['décés/population'] = df_stats.loc[(df_stats.hosp + df_stats.rad) > threshold]['dc/population']\n",
    "df_stats['décés/population'] = df_stats['décés/population'].fillna(0)\n",
    "\n",
    "df_stats = df_stats.drop(['cumul hopitalise / population','dc/cumul hospitalise','dc/population','dc/densite'], axis=1)\n",
    "df_stats.keys()"
   ]
  },
  {
   "cell_type": "code",
   "execution_count": 44,
   "metadata": {},
   "outputs": [],
   "source": [
    "# %run config_stats.py\n",
    "# config_stats = config"
   ]
  },
  {
   "cell_type": "code",
   "execution_count": 12,
   "metadata": {
    "scrolled": false
   },
   "outputs": [
    {
     "name": "stdout",
     "output_type": "stream",
     "text": [
      "User Guide: https://github.com/keplergl/kepler.gl/blob/master/docs/keplergl-jupyter/user-guide.md\n"
     ]
    },
    {
     "data": {
      "application/vnd.jupyter.widget-view+json": {
       "model_id": "ee6228d6b139474dbecf9878515cfd19",
       "version_major": 2,
       "version_minor": 0
      },
      "text/plain": [
       "KeplerGl(data={'coronavirus': {'index': ['01', '02', '03', '04', '05', '06', '07', '08', '09', '10', '11', '12…"
      ]
     },
     "metadata": {},
     "output_type": "display_data"
    }
   ],
   "source": [
    "map_stats = KeplerGl(height=500)\n",
    "map_stats.add_data(df_stats, name ='coronavirus')\n",
    "map_stats"
   ]
  },
  {
   "cell_type": "code",
   "execution_count": 13,
   "metadata": {},
   "outputs": [],
   "source": [
    "config_stats = map_stats.config\n",
    "# Save map_1 config to a file\n",
    "with open('config_stats.py', 'w') as f:\n",
    "    f.write('config = {}'.format(config_stats))"
   ]
  },
  {
   "cell_type": "code",
   "execution_count": 14,
   "metadata": {},
   "outputs": [
    {
     "name": "stdout",
     "output_type": "stream",
     "text": [
      "Map saved to map_stats.html!\n"
     ]
    }
   ],
   "source": [
    "# this will save current map\n",
    "map_stats.save_to_html(file_name='map_stats.html')"
   ]
  },
  {
   "cell_type": "markdown",
   "metadata": {},
   "source": [
    "# Date"
   ]
  },
  {
   "cell_type": "code",
   "execution_count": 45,
   "metadata": {},
   "outputs": [
    {
     "name": "stdout",
     "output_type": "stream",
     "text": [
      "choisir la date entre :\n",
      "2020-03-18\n",
      "2020-04-13\n"
     ]
    }
   ],
   "source": [
    "print('choisir la date entre :')\n",
    "\n",
    "print(df_jour.min())\n",
    "print(df_jour.max())"
   ]
  },
  {
   "cell_type": "code",
   "execution_count": 46,
   "metadata": {},
   "outputs": [],
   "source": [
    "#Mettre le jour à étudier\n",
    "jour = '2020-04-13'"
   ]
  },
  {
   "cell_type": "markdown",
   "metadata": {},
   "source": [
    "## Analyse"
   ]
  },
  {
   "cell_type": "code",
   "execution_count": 47,
   "metadata": {},
   "outputs": [
    {
     "data": {
      "text/html": [
       "<div>\n",
       "<style scoped>\n",
       "    .dataframe tbody tr th:only-of-type {\n",
       "        vertical-align: middle;\n",
       "    }\n",
       "\n",
       "    .dataframe tbody tr th {\n",
       "        vertical-align: top;\n",
       "    }\n",
       "\n",
       "    .dataframe thead th {\n",
       "        text-align: right;\n",
       "    }\n",
       "</style>\n",
       "<table border=\"1\" class=\"dataframe\">\n",
       "  <thead>\n",
       "    <tr style=\"text-align: right;\">\n",
       "      <th></th>\n",
       "      <th>nom</th>\n",
       "      <th>geometry</th>\n",
       "      <th>jour</th>\n",
       "      <th>hosp</th>\n",
       "      <th>rea</th>\n",
       "      <th>rad</th>\n",
       "      <th>dc</th>\n",
       "      <th>dc/densite</th>\n",
       "      <th>people older than 75 year (%)</th>\n",
       "      <th>dc/population</th>\n",
       "      <th>dc/cumul hospitalise</th>\n",
       "      <th>cumul hopitalise / population</th>\n",
       "      <th>décés/cumul hospitalisé</th>\n",
       "      <th>décés/densite</th>\n",
       "      <th>décés/population</th>\n",
       "    </tr>\n",
       "    <tr>\n",
       "      <th>code</th>\n",
       "      <th></th>\n",
       "      <th></th>\n",
       "      <th></th>\n",
       "      <th></th>\n",
       "      <th></th>\n",
       "      <th></th>\n",
       "      <th></th>\n",
       "      <th></th>\n",
       "      <th></th>\n",
       "      <th></th>\n",
       "      <th></th>\n",
       "      <th></th>\n",
       "      <th></th>\n",
       "      <th></th>\n",
       "      <th></th>\n",
       "    </tr>\n",
       "  </thead>\n",
       "  <tbody>\n",
       "    <tr>\n",
       "      <th>01</th>\n",
       "      <td>Ain</td>\n",
       "      <td>POLYGON ((4.78021 46.17668, 4.78024 46.18905, ...</td>\n",
       "      <td>2020-04-13</td>\n",
       "      <td>120</td>\n",
       "      <td>30</td>\n",
       "      <td>139</td>\n",
       "      <td>44</td>\n",
       "      <td>0.401094</td>\n",
       "      <td>8.3</td>\n",
       "      <td>0.000070</td>\n",
       "      <td>0.169884</td>\n",
       "      <td>0.000410</td>\n",
       "      <td>0.000000</td>\n",
       "      <td>0.000000</td>\n",
       "      <td>0.000000</td>\n",
       "    </tr>\n",
       "    <tr>\n",
       "      <th>02</th>\n",
       "      <td>Aisne</td>\n",
       "      <td>POLYGON ((3.17296 50.01131, 3.17382 50.01186, ...</td>\n",
       "      <td>2020-04-13</td>\n",
       "      <td>286</td>\n",
       "      <td>44</td>\n",
       "      <td>288</td>\n",
       "      <td>147</td>\n",
       "      <td>2.010944</td>\n",
       "      <td>9.3</td>\n",
       "      <td>0.000273</td>\n",
       "      <td>0.256098</td>\n",
       "      <td>0.001066</td>\n",
       "      <td>0.256098</td>\n",
       "      <td>2.010944</td>\n",
       "      <td>0.000273</td>\n",
       "    </tr>\n",
       "    <tr>\n",
       "      <th>03</th>\n",
       "      <td>Allier</td>\n",
       "      <td>POLYGON ((3.03207 46.79491, 3.03424 46.79080, ...</td>\n",
       "      <td>2020-04-13</td>\n",
       "      <td>58</td>\n",
       "      <td>20</td>\n",
       "      <td>82</td>\n",
       "      <td>13</td>\n",
       "      <td>0.279570</td>\n",
       "      <td>13.8</td>\n",
       "      <td>0.000038</td>\n",
       "      <td>0.092857</td>\n",
       "      <td>0.000410</td>\n",
       "      <td>0.000000</td>\n",
       "      <td>0.000000</td>\n",
       "      <td>0.000000</td>\n",
       "    </tr>\n",
       "    <tr>\n",
       "      <th>04</th>\n",
       "      <td>Alpes-de-Haute-Provence</td>\n",
       "      <td>POLYGON ((5.67604 44.19143, 5.67817 44.19051, ...</td>\n",
       "      <td>2020-04-13</td>\n",
       "      <td>33</td>\n",
       "      <td>4</td>\n",
       "      <td>63</td>\n",
       "      <td>5</td>\n",
       "      <td>0.213675</td>\n",
       "      <td>12.7</td>\n",
       "      <td>0.000031</td>\n",
       "      <td>0.052083</td>\n",
       "      <td>0.000593</td>\n",
       "      <td>0.000000</td>\n",
       "      <td>0.000000</td>\n",
       "      <td>0.000000</td>\n",
       "    </tr>\n",
       "    <tr>\n",
       "      <th>05</th>\n",
       "      <td>Hautes-Alpes</td>\n",
       "      <td>POLYGON ((6.26057 45.12685, 6.26417 45.12641, ...</td>\n",
       "      <td>2020-04-13</td>\n",
       "      <td>49</td>\n",
       "      <td>13</td>\n",
       "      <td>70</td>\n",
       "      <td>3</td>\n",
       "      <td>0.118110</td>\n",
       "      <td>11.9</td>\n",
       "      <td>0.000021</td>\n",
       "      <td>0.025210</td>\n",
       "      <td>0.000844</td>\n",
       "      <td>0.000000</td>\n",
       "      <td>0.000000</td>\n",
       "      <td>0.000000</td>\n",
       "    </tr>\n",
       "  </tbody>\n",
       "</table>\n",
       "</div>"
      ],
      "text/plain": [
       "                          nom  \\\n",
       "code                            \n",
       "01                        Ain   \n",
       "02                      Aisne   \n",
       "03                     Allier   \n",
       "04    Alpes-de-Haute-Provence   \n",
       "05               Hautes-Alpes   \n",
       "\n",
       "                                               geometry        jour  hosp  \\\n",
       "code                                                                        \n",
       "01    POLYGON ((4.78021 46.17668, 4.78024 46.18905, ...  2020-04-13   120   \n",
       "02    POLYGON ((3.17296 50.01131, 3.17382 50.01186, ...  2020-04-13   286   \n",
       "03    POLYGON ((3.03207 46.79491, 3.03424 46.79080, ...  2020-04-13    58   \n",
       "04    POLYGON ((5.67604 44.19143, 5.67817 44.19051, ...  2020-04-13    33   \n",
       "05    POLYGON ((6.26057 45.12685, 6.26417 45.12641, ...  2020-04-13    49   \n",
       "\n",
       "      rea  rad   dc  dc/densite  people older than 75 year (%)  dc/population  \\\n",
       "code                                                                            \n",
       "01     30  139   44    0.401094                            8.3       0.000070   \n",
       "02     44  288  147    2.010944                            9.3       0.000273   \n",
       "03     20   82   13    0.279570                           13.8       0.000038   \n",
       "04      4   63    5    0.213675                           12.7       0.000031   \n",
       "05     13   70    3    0.118110                           11.9       0.000021   \n",
       "\n",
       "      dc/cumul hospitalise  cumul hopitalise / population  \\\n",
       "code                                                        \n",
       "01                0.169884                       0.000410   \n",
       "02                0.256098                       0.001066   \n",
       "03                0.092857                       0.000410   \n",
       "04                0.052083                       0.000593   \n",
       "05                0.025210                       0.000844   \n",
       "\n",
       "      décés/cumul hospitalisé  décés/densite  décés/population  \n",
       "code                                                            \n",
       "01                   0.000000       0.000000          0.000000  \n",
       "02                   0.256098       2.010944          0.000273  \n",
       "03                   0.000000       0.000000          0.000000  \n",
       "04                   0.000000       0.000000          0.000000  \n",
       "05                   0.000000       0.000000          0.000000  "
      ]
     },
     "execution_count": 47,
     "metadata": {},
     "output_type": "execute_result"
    }
   ],
   "source": [
    "daily_coronavirus = dict_coronavirus[jour]\n",
    "\n",
    "daily_coronavirus.head()"
   ]
  },
  {
   "cell_type": "markdown",
   "metadata": {},
   "source": [
    " ## Calcul de risque"
   ]
  },
  {
   "cell_type": "markdown",
   "metadata": {},
   "source": [
    "#### demographie"
   ]
  },
  {
   "cell_type": "code",
   "execution_count": 48,
   "metadata": {},
   "outputs": [
    {
     "data": {
      "text/html": [
       "<div>\n",
       "<style scoped>\n",
       "    .dataframe tbody tr th:only-of-type {\n",
       "        vertical-align: middle;\n",
       "    }\n",
       "\n",
       "    .dataframe tbody tr th {\n",
       "        vertical-align: top;\n",
       "    }\n",
       "\n",
       "    .dataframe thead th {\n",
       "        text-align: right;\n",
       "    }\n",
       "</style>\n",
       "<table border=\"1\" class=\"dataframe\">\n",
       "  <thead>\n",
       "    <tr style=\"text-align: right;\">\n",
       "      <th></th>\n",
       "      <th>age_risque</th>\n",
       "    </tr>\n",
       "    <tr>\n",
       "      <th>code</th>\n",
       "      <th></th>\n",
       "    </tr>\n",
       "  </thead>\n",
       "  <tbody>\n",
       "    <tr>\n",
       "      <th>01</th>\n",
       "      <td>1</td>\n",
       "    </tr>\n",
       "    <tr>\n",
       "      <th>02</th>\n",
       "      <td>2</td>\n",
       "    </tr>\n",
       "    <tr>\n",
       "      <th>03</th>\n",
       "      <td>4</td>\n",
       "    </tr>\n",
       "    <tr>\n",
       "      <th>04</th>\n",
       "      <td>4</td>\n",
       "    </tr>\n",
       "    <tr>\n",
       "      <th>05</th>\n",
       "      <td>3</td>\n",
       "    </tr>\n",
       "  </tbody>\n",
       "</table>\n",
       "</div>"
      ],
      "text/plain": [
       "      age_risque\n",
       "code            \n",
       "01             1\n",
       "02             2\n",
       "03             4\n",
       "04             4\n",
       "05             3"
      ]
     },
     "execution_count": 48,
     "metadata": {},
     "output_type": "execute_result"
    }
   ],
   "source": [
    "# Part des 75 ans ou plus (en %)\n",
    "\n",
    "cat_0 = 0\n",
    "#Risque = 1\n",
    "cat_1 = 9.000000 \n",
    "#Risque = 2\n",
    "cat_2 = 10.600000\n",
    "#Risque = 3\n",
    "cat_3 = 12.500000\n",
    "#Risque = 4  \n",
    "\n",
    "df_temp = df_de1.drop(['Ensemble','Part des femmes (en %)', 'Part des hommes (en %)','Part des 0 à 24 ans (en %)', 'Part des 25 à 59 ans (en %)', 'Part des 60 ans ou plus (en %)'], axis = 1)\n",
    "x = df_temp['dont part des 75 ans ou plus (en %)']\n",
    "df_temp['age_risque'] = df_temp['dont part des 75 ans ou plus (en %)'].apply(lambda x : 1 if x < cat_1 else (2 if x > cat_1 and x < cat_2 else (3 if x > cat_2 and x < cat_3 else 4)))\n",
    "df_temp = df_temp.drop(['dont part des 75 ans ou plus (en %)'], axis = 1)\n",
    "\n",
    "df_temp.head()"
   ]
  },
  {
   "cell_type": "markdown",
   "metadata": {},
   "source": [
    "#### contamination"
   ]
  },
  {
   "cell_type": "code",
   "execution_count": 49,
   "metadata": {},
   "outputs": [
    {
     "data": {
      "text/html": [
       "<div>\n",
       "<style scoped>\n",
       "    .dataframe tbody tr th:only-of-type {\n",
       "        vertical-align: middle;\n",
       "    }\n",
       "\n",
       "    .dataframe tbody tr th {\n",
       "        vertical-align: top;\n",
       "    }\n",
       "\n",
       "    .dataframe thead th {\n",
       "        text-align: right;\n",
       "    }\n",
       "</style>\n",
       "<table border=\"1\" class=\"dataframe\">\n",
       "  <thead>\n",
       "    <tr style=\"text-align: right;\">\n",
       "      <th></th>\n",
       "      <th>age_risque</th>\n",
       "      <th>contamination_risque</th>\n",
       "    </tr>\n",
       "    <tr>\n",
       "      <th>code</th>\n",
       "      <th></th>\n",
       "      <th></th>\n",
       "    </tr>\n",
       "  </thead>\n",
       "  <tbody>\n",
       "    <tr>\n",
       "      <th>01</th>\n",
       "      <td>1</td>\n",
       "      <td>3</td>\n",
       "    </tr>\n",
       "    <tr>\n",
       "      <th>02</th>\n",
       "      <td>2</td>\n",
       "      <td>1</td>\n",
       "    </tr>\n",
       "    <tr>\n",
       "      <th>03</th>\n",
       "      <td>4</td>\n",
       "      <td>3</td>\n",
       "    </tr>\n",
       "    <tr>\n",
       "      <th>04</th>\n",
       "      <td>4</td>\n",
       "      <td>2</td>\n",
       "    </tr>\n",
       "    <tr>\n",
       "      <th>05</th>\n",
       "      <td>3</td>\n",
       "      <td>2</td>\n",
       "    </tr>\n",
       "  </tbody>\n",
       "</table>\n",
       "</div>"
      ],
      "text/plain": [
       "      age_risque  contamination_risque\n",
       "code                                  \n",
       "01             1                     3\n",
       "02             2                     1\n",
       "03             4                     3\n",
       "04             4                     2\n",
       "05             3                     2"
      ]
     },
     "execution_count": 49,
     "metadata": {},
     "output_type": "execute_result"
    }
   ],
   "source": [
    "# Cumul hospitalisé par rapport à la population\n",
    "\n",
    "cat_0 = 0\n",
    "#Risque = 1\n",
    "cat_1 = 0.000284\n",
    "#Risque = 2\n",
    "cat_2 = 0.000494\n",
    "#Risque =  3\n",
    "cat_3 = 0.000898\n",
    "#Risque = 3\n",
    "\n",
    "x1 = dict_coronavirus[max]['cumul hopitalise / population']\n",
    "df_temp['contamination_risque'] = dict_coronavirus[max]['cumul hopitalise / population'].apply(lambda x : 4 if x < cat_1 else (3 if x > cat_1 and x < cat_2 else (2 if x > cat_2 and x < cat_3 else 1)))\n",
    "\n",
    "df_temp.head()"
   ]
  },
  {
   "cell_type": "code",
   "execution_count": 50,
   "metadata": {},
   "outputs": [
    {
     "data": {
      "text/html": [
       "<div>\n",
       "<style scoped>\n",
       "    .dataframe tbody tr th:only-of-type {\n",
       "        vertical-align: middle;\n",
       "    }\n",
       "\n",
       "    .dataframe tbody tr th {\n",
       "        vertical-align: top;\n",
       "    }\n",
       "\n",
       "    .dataframe thead th {\n",
       "        text-align: right;\n",
       "    }\n",
       "</style>\n",
       "<table border=\"1\" class=\"dataframe\">\n",
       "  <thead>\n",
       "    <tr style=\"text-align: right;\">\n",
       "      <th></th>\n",
       "      <th>age_risque</th>\n",
       "      <th>contamination_risque</th>\n",
       "      <th>score</th>\n",
       "    </tr>\n",
       "    <tr>\n",
       "      <th>code</th>\n",
       "      <th></th>\n",
       "      <th></th>\n",
       "      <th></th>\n",
       "    </tr>\n",
       "  </thead>\n",
       "  <tbody>\n",
       "    <tr>\n",
       "      <th>01</th>\n",
       "      <td>1</td>\n",
       "      <td>3</td>\n",
       "      <td>3</td>\n",
       "    </tr>\n",
       "    <tr>\n",
       "      <th>02</th>\n",
       "      <td>2</td>\n",
       "      <td>1</td>\n",
       "      <td>2</td>\n",
       "    </tr>\n",
       "    <tr>\n",
       "      <th>03</th>\n",
       "      <td>4</td>\n",
       "      <td>3</td>\n",
       "      <td>12</td>\n",
       "    </tr>\n",
       "    <tr>\n",
       "      <th>04</th>\n",
       "      <td>4</td>\n",
       "      <td>2</td>\n",
       "      <td>8</td>\n",
       "    </tr>\n",
       "    <tr>\n",
       "      <th>05</th>\n",
       "      <td>3</td>\n",
       "      <td>2</td>\n",
       "      <td>6</td>\n",
       "    </tr>\n",
       "  </tbody>\n",
       "</table>\n",
       "</div>"
      ],
      "text/plain": [
       "      age_risque  contamination_risque  score\n",
       "code                                         \n",
       "01             1                     3      3\n",
       "02             2                     1      2\n",
       "03             4                     3     12\n",
       "04             4                     2      8\n",
       "05             3                     2      6"
      ]
     },
     "execution_count": 50,
     "metadata": {},
     "output_type": "execute_result"
    }
   ],
   "source": [
    "df_temp['score'] = df_temp['age_risque'] * df_temp['contamination_risque']\n",
    "    \n",
    "df_temp.head()"
   ]
  },
  {
   "cell_type": "code",
   "execution_count": 51,
   "metadata": {},
   "outputs": [
    {
     "data": {
      "text/html": [
       "<div>\n",
       "<style scoped>\n",
       "    .dataframe tbody tr th:only-of-type {\n",
       "        vertical-align: middle;\n",
       "    }\n",
       "\n",
       "    .dataframe tbody tr th {\n",
       "        vertical-align: top;\n",
       "    }\n",
       "\n",
       "    .dataframe thead th {\n",
       "        text-align: right;\n",
       "    }\n",
       "</style>\n",
       "<table border=\"1\" class=\"dataframe\">\n",
       "  <thead>\n",
       "    <tr style=\"text-align: right;\">\n",
       "      <th></th>\n",
       "      <th>nom</th>\n",
       "      <th>geometry</th>\n",
       "      <th>age_risque</th>\n",
       "      <th>contamination_risque</th>\n",
       "      <th>score</th>\n",
       "    </tr>\n",
       "  </thead>\n",
       "  <tbody>\n",
       "    <tr>\n",
       "      <th>01</th>\n",
       "      <td>Ain</td>\n",
       "      <td>POLYGON ((4.78021 46.17668, 4.78024 46.18905, ...</td>\n",
       "      <td>1</td>\n",
       "      <td>3</td>\n",
       "      <td>3</td>\n",
       "    </tr>\n",
       "    <tr>\n",
       "      <th>02</th>\n",
       "      <td>Aisne</td>\n",
       "      <td>POLYGON ((3.17296 50.01131, 3.17382 50.01186, ...</td>\n",
       "      <td>2</td>\n",
       "      <td>1</td>\n",
       "      <td>2</td>\n",
       "    </tr>\n",
       "    <tr>\n",
       "      <th>03</th>\n",
       "      <td>Allier</td>\n",
       "      <td>POLYGON ((3.03207 46.79491, 3.03424 46.79080, ...</td>\n",
       "      <td>4</td>\n",
       "      <td>3</td>\n",
       "      <td>12</td>\n",
       "    </tr>\n",
       "    <tr>\n",
       "      <th>04</th>\n",
       "      <td>Alpes-de-Haute-Provence</td>\n",
       "      <td>POLYGON ((5.67604 44.19143, 5.67817 44.19051, ...</td>\n",
       "      <td>4</td>\n",
       "      <td>2</td>\n",
       "      <td>8</td>\n",
       "    </tr>\n",
       "    <tr>\n",
       "      <th>05</th>\n",
       "      <td>Hautes-Alpes</td>\n",
       "      <td>POLYGON ((6.26057 45.12685, 6.26417 45.12641, ...</td>\n",
       "      <td>3</td>\n",
       "      <td>2</td>\n",
       "      <td>6</td>\n",
       "    </tr>\n",
       "  </tbody>\n",
       "</table>\n",
       "</div>"
      ],
      "text/plain": [
       "                        nom  \\\n",
       "01                      Ain   \n",
       "02                    Aisne   \n",
       "03                   Allier   \n",
       "04  Alpes-de-Haute-Provence   \n",
       "05             Hautes-Alpes   \n",
       "\n",
       "                                             geometry  age_risque  \\\n",
       "01  POLYGON ((4.78021 46.17668, 4.78024 46.18905, ...           1   \n",
       "02  POLYGON ((3.17296 50.01131, 3.17382 50.01186, ...           2   \n",
       "03  POLYGON ((3.03207 46.79491, 3.03424 46.79080, ...           4   \n",
       "04  POLYGON ((5.67604 44.19143, 5.67817 44.19051, ...           4   \n",
       "05  POLYGON ((6.26057 45.12685, 6.26417 45.12641, ...           3   \n",
       "\n",
       "    contamination_risque  score  \n",
       "01                     3      3  \n",
       "02                     1      2  \n",
       "03                     3     12  \n",
       "04                     2      8  \n",
       "05                     2      6  "
      ]
     },
     "execution_count": 51,
     "metadata": {},
     "output_type": "execute_result"
    }
   ],
   "source": [
    "df_risque = pd.concat([f,df_temp], axis = 1)\n",
    "\n",
    "df_risque.head()"
   ]
  },
  {
   "cell_type": "markdown",
   "metadata": {},
   "source": [
    "### Visualisation"
   ]
  },
  {
   "cell_type": "markdown",
   "metadata": {},
   "source": [
    "### Map 2D"
   ]
  },
  {
   "cell_type": "markdown",
   "metadata": {},
   "source": [
    "#### Décés"
   ]
  },
  {
   "cell_type": "code",
   "execution_count": 121,
   "metadata": {},
   "outputs": [],
   "source": [
    "%run config_2D.py\n",
    "config_2D = config"
   ]
  },
  {
   "cell_type": "code",
   "execution_count": 122,
   "metadata": {},
   "outputs": [
    {
     "name": "stdout",
     "output_type": "stream",
     "text": [
      "User Guide: https://github.com/keplergl/kepler.gl/blob/master/docs/keplergl-jupyter/user-guide.md\n"
     ]
    },
    {
     "data": {
      "application/vnd.jupyter.widget-view+json": {
       "model_id": "c5e99714f3e44c42b8e86378a5b69528",
       "version_major": 2,
       "version_minor": 0
      },
      "text/plain": [
       "KeplerGl(config={'version': 'v1', 'config': {'visState': {'filters': [], 'layers': [{'id': 'eh1a0e', 'type': '…"
      ]
     },
     "metadata": {},
     "output_type": "display_data"
    }
   ],
   "source": [
    "map_coronavirus_2D = KeplerGl(height=500, config = config)\n",
    "map_coronavirus_2D.add_data(dict_coronavirus['2020-04-13'], name ='coronavirus')\n",
    "map_coronavirus_2D"
   ]
  },
  {
   "cell_type": "code",
   "execution_count": 123,
   "metadata": {},
   "outputs": [],
   "source": [
    "config_2D = map_coronavirus_2D.config"
   ]
  },
  {
   "cell_type": "code",
   "execution_count": 124,
   "metadata": {},
   "outputs": [],
   "source": [
    "# Save map_1 config to a file\n",
    "with open('config_2D.py', 'w') as f:\n",
    "    f.write('config = {}'.format(config_2D))"
   ]
  },
  {
   "cell_type": "code",
   "execution_count": 125,
   "metadata": {},
   "outputs": [],
   "source": [
    "# # this will save current map\n",
    "# map_coronavirus_2D.save_to_html(file_name='map_coronavirus_2D.html')"
   ]
  },
  {
   "cell_type": "markdown",
   "metadata": {},
   "source": [
    "#### Risques"
   ]
  },
  {
   "cell_type": "code",
   "execution_count": 126,
   "metadata": {},
   "outputs": [],
   "source": [
    "%run config_risque.py\n",
    "config_risque = config"
   ]
  },
  {
   "cell_type": "code",
   "execution_count": 127,
   "metadata": {},
   "outputs": [
    {
     "name": "stdout",
     "output_type": "stream",
     "text": [
      "User Guide: https://github.com/keplergl/kepler.gl/blob/master/docs/keplergl-jupyter/user-guide.md\n"
     ]
    },
    {
     "data": {
      "application/vnd.jupyter.widget-view+json": {
       "model_id": "0134af7e0f73479c80e27b8998a79779",
       "version_major": 2,
       "version_minor": 0
      },
      "text/plain": [
       "KeplerGl(config={'version': 'v1', 'config': {'visState': {'filters': [], 'layers': [{'id': 's2l46au', 'type': …"
      ]
     },
     "metadata": {},
     "output_type": "display_data"
    }
   ],
   "source": [
    "map_risque = KeplerGl(height=500, config = config_risque)\n",
    "map_risque.add_data(df_risque, name = 'risque')\n",
    "map_risque"
   ]
  },
  {
   "cell_type": "code",
   "execution_count": 136,
   "metadata": {},
   "outputs": [],
   "source": [
    "config_risque = map_risque.config"
   ]
  },
  {
   "cell_type": "code",
   "execution_count": 137,
   "metadata": {},
   "outputs": [],
   "source": [
    "# Save map_1 config to a file\n",
    "with open('config_risque.py', 'w') as f:\n",
    "    f.write('config = {}'.format(config_risque))"
   ]
  },
  {
   "cell_type": "code",
   "execution_count": 138,
   "metadata": {},
   "outputs": [
    {
     "name": "stdout",
     "output_type": "stream",
     "text": [
      "Map saved to map_risque.html!\n"
     ]
    }
   ],
   "source": [
    "# this will save current map\n",
    "map_risque.save_to_html(file_name='map_risque.html')"
   ]
  },
  {
   "cell_type": "markdown",
   "metadata": {},
   "source": [
    "### Map 3D"
   ]
  },
  {
   "cell_type": "code",
   "execution_count": 131,
   "metadata": {},
   "outputs": [],
   "source": [
    "%run config_3D.py\n",
    "config_3D = config"
   ]
  },
  {
   "cell_type": "code",
   "execution_count": 132,
   "metadata": {
    "scrolled": false
   },
   "outputs": [
    {
     "name": "stdout",
     "output_type": "stream",
     "text": [
      "User Guide: https://github.com/keplergl/kepler.gl/blob/master/docs/keplergl-jupyter/user-guide.md\n"
     ]
    },
    {
     "data": {
      "application/vnd.jupyter.widget-view+json": {
       "model_id": "22a739356aad4d559366e88cbf87921b",
       "version_major": 2,
       "version_minor": 0
      },
      "text/plain": [
       "KeplerGl(config={'version': 'v1', 'config': {'visState': {'filters': [], 'layers': [{'id': 'eh1a0e', 'type': '…"
      ]
     },
     "metadata": {},
     "output_type": "display_data"
    }
   ],
   "source": [
    "map_coronavirus_3D = KeplerGl(height=500, config = config_3D)\n",
    "map_coronavirus_3D.add_data(daily_coronavirus, name ='coronavirus')\n",
    "map_coronavirus_3D"
   ]
  },
  {
   "cell_type": "code",
   "execution_count": 133,
   "metadata": {},
   "outputs": [],
   "source": [
    "config_3D = map_coronavirus_3D.config"
   ]
  },
  {
   "cell_type": "code",
   "execution_count": 134,
   "metadata": {},
   "outputs": [],
   "source": [
    "# Save map_1 config to a file\n",
    "with open('config_3D.py', 'w') as f:\n",
    "    f.write('config = {}'.format(config_3D))"
   ]
  },
  {
   "cell_type": "code",
   "execution_count": 135,
   "metadata": {},
   "outputs": [
    {
     "name": "stdout",
     "output_type": "stream",
     "text": [
      "Map saved to map_coronavirus_3D.html!\n"
     ]
    }
   ],
   "source": [
    "# this will save current map\n",
    "map_coronavirus_3D.save_to_html(file_name='map_coronavirus_3D.html')"
   ]
  }
 ],
 "metadata": {
  "kernelspec": {
   "display_name": "Python 3",
   "language": "python",
   "name": "python3"
  },
  "language_info": {
   "codemirror_mode": {
    "name": "ipython",
    "version": 3
   },
   "file_extension": ".py",
   "mimetype": "text/x-python",
   "name": "python",
   "nbconvert_exporter": "python",
   "pygments_lexer": "ipython3",
   "version": "3.8.2"
  }
 },
 "nbformat": 4,
 "nbformat_minor": 4
}
