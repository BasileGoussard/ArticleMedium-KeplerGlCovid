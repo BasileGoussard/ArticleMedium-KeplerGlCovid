{
 "cells": [
  {
   "cell_type": "code",
   "execution_count": 1,
   "metadata": {},
   "outputs": [],
   "source": [
    "import os\n",
    "import glob\n",
    "\n",
    "import matplotlib.pyplot as plt\n",
    "\n",
    "import pandas as pd\n",
    "import geopandas as gpd\n",
    "\n",
    "from keplergl import KeplerGl"
   ]
  },
  {
   "cell_type": "markdown",
   "metadata": {},
   "source": [
    "# Data"
   ]
  },
  {
   "cell_type": "markdown",
   "metadata": {},
   "source": [
    "### CSV"
   ]
  },
  {
   "cell_type": "markdown",
   "metadata": {},
   "source": [
    "### gouv data"
   ]
  },
  {
   "cell_type": "code",
   "execution_count": 2,
   "metadata": {},
   "outputs": [],
   "source": [
    "#gouv data\n",
    "covid_gouv = 'data/donnees-hospitalieres-covid19-2020-04-13-19h00.csv'\n",
    "df_gouv    = pd.read_csv(covid_gouv, delimiter = ';')\n",
    "\n",
    "# df_gouv.head()"
   ]
  },
  {
   "cell_type": "code",
   "execution_count": 3,
   "metadata": {},
   "outputs": [],
   "source": [
    "#day data\n",
    "df_jour = df_gouv['jour'].drop_duplicates()\n",
    "max = df_jour.max()"
   ]
  },
  {
   "cell_type": "code",
   "execution_count": 4,
   "metadata": {},
   "outputs": [],
   "source": [
    "#gouv preprocessing\n",
    "df_gouv['code'] = df_gouv['dep']\n",
    "\n",
    "temp_df = dict()\n",
    "for i in df_jour :\n",
    "    temp_df[i] = df_gouv.loc[ df_gouv['jour'] == i]\n",
    "dict_df = dict()\n",
    "for key, df in temp_df.items() :\n",
    "    dict_df[key] = df.groupby('code').max().drop(['sexe','dep'], axis=1)\n",
    "    \n",
    "# dict_df[max].head()"
   ]
  },
  {
   "cell_type": "markdown",
   "metadata": {},
   "source": [
    "### demographic data"
   ]
  },
  {
   "cell_type": "code",
   "execution_count": 5,
   "metadata": {},
   "outputs": [],
   "source": [
    "# Source : https://www.regions-et-departements.fr/departements-francais\n",
    "demographie = 'data/demographie (3).csv'\n",
    "df_de       = pd.read_csv(demographie, delimiter = ',')\n",
    "df_de       = df_de.set_index('code')\n",
    "\n",
    "# df_de.head()"
   ]
  },
  {
   "cell_type": "code",
   "execution_count": 6,
   "metadata": {},
   "outputs": [],
   "source": [
    "#Source : https://www.insee.fr/fr/statistiques/2012692#graphique-TCRD_021_tab1_departements\n",
    "demographie_1  = 'data/TCRD_021.csv'\n",
    "df_de1         = pd.read_csv(demographie_1, delimiter = ',')\n",
    "df_de1['code'] = df_de1['Unnamed: 0']\n",
    "df_de1         = df_de1.set_index('code').drop(['Unnamed: 0','Unnamed: 1'], axis =1 )\n",
    "df_de1         = df_de1.dropna()\n",
    "\n",
    "# df_de1"
   ]
  },
  {
   "cell_type": "markdown",
   "metadata": {},
   "source": [
    "### Geospatial data"
   ]
  },
  {
   "cell_type": "code",
   "execution_count": 7,
   "metadata": {},
   "outputs": [],
   "source": [
    "geospatial_data  = 'data/departements-avec-outre-mer.geojson'\n",
    "f = gpd.read_file(geospatial_data)\n",
    "f = f.set_index('code')\n",
    "f = f.sort_index(axis=0)\n",
    "\n",
    "# f.head()"
   ]
  },
  {
   "cell_type": "markdown",
   "metadata": {},
   "source": [
    "# DataFrame Coronavirus"
   ]
  },
  {
   "cell_type": "code",
   "execution_count": 17,
   "metadata": {},
   "outputs": [
    {
     "ename": "TypeError",
     "evalue": "cannot concatenate object of type '<class '_io.TextIOWrapper'>'; only Series and DataFrame objs are valid",
     "output_type": "error",
     "traceback": [
      "\u001b[1;31m---------------------------------------------------------------------------\u001b[0m",
      "\u001b[1;31mTypeError\u001b[0m                                 Traceback (most recent call last)",
      "\u001b[1;32m<ipython-input-17-7b48447d81bc>\u001b[0m in \u001b[0;36m<module>\u001b[1;34m\u001b[0m\n\u001b[0;32m      3\u001b[0m \u001b[0mdict_coronavirus\u001b[0m \u001b[1;33m=\u001b[0m \u001b[0mdict\u001b[0m\u001b[1;33m(\u001b[0m\u001b[1;33m)\u001b[0m\u001b[1;33m\u001b[0m\u001b[1;33m\u001b[0m\u001b[0m\n\u001b[0;32m      4\u001b[0m \u001b[1;32mfor\u001b[0m \u001b[0mi\u001b[0m \u001b[1;32min\u001b[0m \u001b[0mdf_jour\u001b[0m \u001b[1;33m:\u001b[0m\u001b[1;33m\u001b[0m\u001b[1;33m\u001b[0m\u001b[0m\n\u001b[1;32m----> 5\u001b[1;33m     \u001b[0mdict_coronavirus\u001b[0m\u001b[1;33m[\u001b[0m\u001b[0mi\u001b[0m\u001b[1;33m]\u001b[0m \u001b[1;33m=\u001b[0m \u001b[0mpd\u001b[0m\u001b[1;33m.\u001b[0m\u001b[0mconcat\u001b[0m\u001b[1;33m(\u001b[0m\u001b[1;33m[\u001b[0m\u001b[0mf\u001b[0m\u001b[1;33m,\u001b[0m\u001b[0mdict_df\u001b[0m\u001b[1;33m[\u001b[0m\u001b[0mi\u001b[0m\u001b[1;33m]\u001b[0m\u001b[1;33m]\u001b[0m\u001b[1;33m,\u001b[0m \u001b[0maxis\u001b[0m \u001b[1;33m=\u001b[0m \u001b[1;36m1\u001b[0m\u001b[1;33m)\u001b[0m\u001b[1;33m\u001b[0m\u001b[1;33m\u001b[0m\u001b[0m\n\u001b[0m\u001b[0;32m      6\u001b[0m     \u001b[0mdict_coronavirus\u001b[0m\u001b[1;33m[\u001b[0m\u001b[0mi\u001b[0m\u001b[1;33m]\u001b[0m\u001b[1;33m[\u001b[0m\u001b[1;34m'dc/densite'\u001b[0m\u001b[1;33m]\u001b[0m    \u001b[1;33m=\u001b[0m \u001b[0mdict_coronavirus\u001b[0m\u001b[1;33m[\u001b[0m\u001b[0mi\u001b[0m\u001b[1;33m]\u001b[0m\u001b[1;33m[\u001b[0m\u001b[1;34m'dc'\u001b[0m\u001b[1;33m]\u001b[0m \u001b[1;33m/\u001b[0m \u001b[0mdf_de\u001b[0m\u001b[1;33m[\u001b[0m\u001b[1;34m'Densite'\u001b[0m\u001b[1;33m]\u001b[0m\u001b[1;33m\u001b[0m\u001b[1;33m\u001b[0m\u001b[0m\n\u001b[0;32m      7\u001b[0m     \u001b[0mdict_coronavirus\u001b[0m\u001b[1;33m[\u001b[0m\u001b[0mi\u001b[0m\u001b[1;33m]\u001b[0m\u001b[1;33m[\u001b[0m\u001b[1;34m'people older than 75 year (%)'\u001b[0m\u001b[1;33m]\u001b[0m \u001b[1;33m=\u001b[0m \u001b[0mdf_de1\u001b[0m\u001b[1;33m[\u001b[0m\u001b[1;34m'dont part des 75 ans ou plus (en %)'\u001b[0m\u001b[1;33m]\u001b[0m\u001b[1;33m\u001b[0m\u001b[1;33m\u001b[0m\u001b[0m\n",
      "\u001b[1;32m~\\anaconda3\\envs\\geo_env\\lib\\site-packages\\pandas\\core\\reshape\\concat.py\u001b[0m in \u001b[0;36mconcat\u001b[1;34m(objs, axis, join, ignore_index, keys, levels, names, verify_integrity, sort, copy)\u001b[0m\n\u001b[0;32m    269\u001b[0m     \u001b[0mValueError\u001b[0m\u001b[1;33m:\u001b[0m \u001b[0mIndexes\u001b[0m \u001b[0mhave\u001b[0m \u001b[0moverlapping\u001b[0m \u001b[0mvalues\u001b[0m\u001b[1;33m:\u001b[0m \u001b[1;33m[\u001b[0m\u001b[1;34m'a'\u001b[0m\u001b[1;33m]\u001b[0m\u001b[1;33m\u001b[0m\u001b[1;33m\u001b[0m\u001b[0m\n\u001b[0;32m    270\u001b[0m     \"\"\"\n\u001b[1;32m--> 271\u001b[1;33m     op = _Concatenator(\n\u001b[0m\u001b[0;32m    272\u001b[0m         \u001b[0mobjs\u001b[0m\u001b[1;33m,\u001b[0m\u001b[1;33m\u001b[0m\u001b[1;33m\u001b[0m\u001b[0m\n\u001b[0;32m    273\u001b[0m         \u001b[0maxis\u001b[0m\u001b[1;33m=\u001b[0m\u001b[0maxis\u001b[0m\u001b[1;33m,\u001b[0m\u001b[1;33m\u001b[0m\u001b[1;33m\u001b[0m\u001b[0m\n",
      "\u001b[1;32m~\\anaconda3\\envs\\geo_env\\lib\\site-packages\\pandas\\core\\reshape\\concat.py\u001b[0m in \u001b[0;36m__init__\u001b[1;34m(self, objs, axis, join, keys, levels, names, ignore_index, verify_integrity, copy, sort)\u001b[0m\n\u001b[0;32m    355\u001b[0m                     \u001b[1;34m\"only Series and DataFrame objs are valid\"\u001b[0m\u001b[1;33m.\u001b[0m\u001b[0mformat\u001b[0m\u001b[1;33m(\u001b[0m\u001b[0mtyp\u001b[0m\u001b[1;33m=\u001b[0m\u001b[0mtype\u001b[0m\u001b[1;33m(\u001b[0m\u001b[0mobj\u001b[0m\u001b[1;33m)\u001b[0m\u001b[1;33m)\u001b[0m\u001b[1;33m\u001b[0m\u001b[1;33m\u001b[0m\u001b[0m\n\u001b[0;32m    356\u001b[0m                 )\n\u001b[1;32m--> 357\u001b[1;33m                 \u001b[1;32mraise\u001b[0m \u001b[0mTypeError\u001b[0m\u001b[1;33m(\u001b[0m\u001b[0mmsg\u001b[0m\u001b[1;33m)\u001b[0m\u001b[1;33m\u001b[0m\u001b[1;33m\u001b[0m\u001b[0m\n\u001b[0m\u001b[0;32m    358\u001b[0m \u001b[1;33m\u001b[0m\u001b[0m\n\u001b[0;32m    359\u001b[0m             \u001b[1;31m# consolidate\u001b[0m\u001b[1;33m\u001b[0m\u001b[1;33m\u001b[0m\u001b[1;33m\u001b[0m\u001b[0m\n",
      "\u001b[1;31mTypeError\u001b[0m: cannot concatenate object of type '<class '_io.TextIOWrapper'>'; only Series and DataFrame objs are valid"
     ]
    }
   ],
   "source": [
    "#Vous pouvez construire votre indicateur ici\n",
    "\n",
    "dict_coronavirus = dict()\n",
    "for i in df_jour :\n",
    "    dict_coronavirus[i] = pd.concat([f,dict_df[i]], axis = 1)\n",
    "    dict_coronavirus[i]['dc/densite']    = dict_coronavirus[i]['dc'] / df_de['Densite']\n",
    "    dict_coronavirus[i]['people older than 75 year (%)'] = df_de1['dont part des 75 ans ou plus (en %)']\n",
    "    dict_coronavirus[i]['dc/population'] = dict_coronavirus[i]['dc'] / df_de['Population']\n",
    "    dict_coronavirus[i]['dc/cumul hospitalise'] = dict_coronavirus[i]['dc'] / (dict_coronavirus[i]['hosp']+dict_coronavirus[i]['rad'])\n",
    "    dict_coronavirus[i]['cumul hopitalise / population']     = (dict_coronavirus[i]['hosp']+dict_coronavirus[i]['rad']) / df_de['Population']\n",
    "\n",
    "# dict_coronavirus[max].head()"
   ]
  },
  {
   "cell_type": "markdown",
   "metadata": {},
   "source": [
    "## Stats"
   ]
  },
  {
   "cell_type": "code",
   "execution_count": 9,
   "metadata": {},
   "outputs": [],
   "source": [
    "df_stats = dict_coronavirus[max]"
   ]
  },
  {
   "cell_type": "code",
   "execution_count": 10,
   "metadata": {},
   "outputs": [
    {
     "data": {
      "text/plain": [
       "Index(['nom', 'geometry', 'jour', 'hosp', 'rea', 'rad', 'dc',\n",
       "       'people older than 75 year (%)', 'décés/cumul hospitalisé',\n",
       "       'décés/densite', 'décés/population'],\n",
       "      dtype='object')"
      ]
     },
     "execution_count": 10,
     "metadata": {},
     "output_type": "execute_result"
    }
   ],
   "source": [
    "threshold = 400\n",
    "\n",
    "df_stats['décés/cumul hospitalisé'] = df_stats.loc[(df_stats.hosp + df_stats.rad) > threshold]['dc/cumul hospitalise']\n",
    "df_stats['décés/cumul hospitalisé'] = df_stats['décés/cumul hospitalisé'].fillna(0)\n",
    "\n",
    "df_stats['décés/densite'] = df_stats.loc[(df_stats.hosp + df_stats.rad) > threshold]['dc/densite']\n",
    "df_stats['décés/densite'] = df_stats['décés/densite'].fillna(0)\n",
    "\n",
    "df_stats['décés/population'] = df_stats.loc[(df_stats.hosp + df_stats.rad) > threshold]['dc/population']\n",
    "df_stats['décés/population'] = df_stats['décés/population'].fillna(0)\n",
    "\n",
    "df_stats = df_stats.drop(['cumul hopitalise / population','dc/cumul hospitalise','dc/population','dc/densite'], axis=1)\n",
    "df_stats.keys()"
   ]
  },
  {
   "cell_type": "code",
   "execution_count": null,
   "metadata": {},
   "outputs": [],
   "source": [
    "# %run config_stats.py\n",
    "# config_stats = config"
   ]
  },
  {
   "cell_type": "code",
   "execution_count": 12,
   "metadata": {
    "scrolled": false
   },
   "outputs": [
    {
     "name": "stdout",
     "output_type": "stream",
     "text": [
      "User Guide: https://github.com/keplergl/kepler.gl/blob/master/docs/keplergl-jupyter/user-guide.md\n"
     ]
    },
    {
     "data": {
      "application/vnd.jupyter.widget-view+json": {
       "model_id": "6b360df0fd1b4c6e8737a703539c778c",
       "version_major": 2,
       "version_minor": 0
      },
      "text/plain": [
       "KeplerGl(data={'coronavirus': {'index': ['01', '02', '03', '04', '05', '06', '07', '08', '09', '10', '11', '12…"
      ]
     },
     "metadata": {},
     "output_type": "display_data"
    }
   ],
   "source": [
    "map_stats = KeplerGl(height=500)\n",
    "map_stats.add_data(df_stats, name ='coronavirus')\n",
    "map_stats"
   ]
  },
  {
   "cell_type": "code",
   "execution_count": 13,
   "metadata": {},
   "outputs": [],
   "source": [
    "config_stats = map_stats.config\n",
    "# Save map_1 config to a file\n",
    "with open('config_stats.py', 'w') as f:\n",
    "    f.write('config = {}'.format(config_stats))"
   ]
  },
  {
   "cell_type": "code",
   "execution_count": 14,
   "metadata": {},
   "outputs": [
    {
     "name": "stdout",
     "output_type": "stream",
     "text": [
      "Map saved to map_stats.html!\n"
     ]
    }
   ],
   "source": [
    "# this will save current map\n",
    "map_stats.save_to_html(file_name='map_stats.html')"
   ]
  },
  {
   "cell_type": "markdown",
   "metadata": {},
   "source": [
    "# Date"
   ]
  },
  {
   "cell_type": "code",
   "execution_count": 16,
   "metadata": {},
   "outputs": [
    {
     "name": "stdout",
     "output_type": "stream",
     "text": [
      "choisir la date entre :\n",
      "2020-03-18\n",
      "2020-04-13\n"
     ]
    }
   ],
   "source": [
    "print('choisir la date entre :')\n",
    "\n",
    "print(df_jour.min())\n",
    "print(df_jour.max())"
   ]
  },
  {
   "cell_type": "code",
   "execution_count": 150,
   "metadata": {},
   "outputs": [],
   "source": [
    "#Mettre le jour à étudier\n",
    "jour = '2020-04-13'"
   ]
  },
  {
   "cell_type": "markdown",
   "metadata": {},
   "source": [
    "## Analyse"
   ]
  },
  {
   "cell_type": "code",
   "execution_count": 151,
   "metadata": {},
   "outputs": [
    {
     "data": {
      "text/html": [
       "<div>\n",
       "<style scoped>\n",
       "    .dataframe tbody tr th:only-of-type {\n",
       "        vertical-align: middle;\n",
       "    }\n",
       "\n",
       "    .dataframe tbody tr th {\n",
       "        vertical-align: top;\n",
       "    }\n",
       "\n",
       "    .dataframe thead th {\n",
       "        text-align: right;\n",
       "    }\n",
       "</style>\n",
       "<table border=\"1\" class=\"dataframe\">\n",
       "  <thead>\n",
       "    <tr style=\"text-align: right;\">\n",
       "      <th></th>\n",
       "      <th>nom</th>\n",
       "      <th>geometry</th>\n",
       "      <th>jour</th>\n",
       "      <th>hosp</th>\n",
       "      <th>rea</th>\n",
       "      <th>rad</th>\n",
       "      <th>dc</th>\n",
       "      <th>dc/densite</th>\n",
       "      <th>people older than 75 year (%)</th>\n",
       "      <th>dc/population</th>\n",
       "      <th>dc/cumul hospitalise</th>\n",
       "      <th>cumul hopitalise / population</th>\n",
       "    </tr>\n",
       "    <tr>\n",
       "      <th>code</th>\n",
       "      <th></th>\n",
       "      <th></th>\n",
       "      <th></th>\n",
       "      <th></th>\n",
       "      <th></th>\n",
       "      <th></th>\n",
       "      <th></th>\n",
       "      <th></th>\n",
       "      <th></th>\n",
       "      <th></th>\n",
       "      <th></th>\n",
       "      <th></th>\n",
       "    </tr>\n",
       "  </thead>\n",
       "  <tbody>\n",
       "    <tr>\n",
       "      <th>01</th>\n",
       "      <td>Ain</td>\n",
       "      <td>POLYGON ((4.78021 46.17668, 4.78024 46.18905, ...</td>\n",
       "      <td>2020-04-13</td>\n",
       "      <td>120</td>\n",
       "      <td>30</td>\n",
       "      <td>139</td>\n",
       "      <td>44</td>\n",
       "      <td>0.401094</td>\n",
       "      <td>8.3</td>\n",
       "      <td>0.000070</td>\n",
       "      <td>0.169884</td>\n",
       "      <td>0.000410</td>\n",
       "    </tr>\n",
       "    <tr>\n",
       "      <th>02</th>\n",
       "      <td>Aisne</td>\n",
       "      <td>POLYGON ((3.17296 50.01131, 3.17382 50.01186, ...</td>\n",
       "      <td>2020-04-13</td>\n",
       "      <td>286</td>\n",
       "      <td>44</td>\n",
       "      <td>288</td>\n",
       "      <td>147</td>\n",
       "      <td>2.010944</td>\n",
       "      <td>9.3</td>\n",
       "      <td>0.000273</td>\n",
       "      <td>0.256098</td>\n",
       "      <td>0.001066</td>\n",
       "    </tr>\n",
       "    <tr>\n",
       "      <th>03</th>\n",
       "      <td>Allier</td>\n",
       "      <td>POLYGON ((3.03207 46.79491, 3.03424 46.79080, ...</td>\n",
       "      <td>2020-04-13</td>\n",
       "      <td>58</td>\n",
       "      <td>20</td>\n",
       "      <td>82</td>\n",
       "      <td>13</td>\n",
       "      <td>0.279570</td>\n",
       "      <td>13.8</td>\n",
       "      <td>0.000038</td>\n",
       "      <td>0.092857</td>\n",
       "      <td>0.000410</td>\n",
       "    </tr>\n",
       "    <tr>\n",
       "      <th>04</th>\n",
       "      <td>Alpes-de-Haute-Provence</td>\n",
       "      <td>POLYGON ((5.67604 44.19143, 5.67817 44.19051, ...</td>\n",
       "      <td>2020-04-13</td>\n",
       "      <td>33</td>\n",
       "      <td>4</td>\n",
       "      <td>63</td>\n",
       "      <td>5</td>\n",
       "      <td>0.213675</td>\n",
       "      <td>12.7</td>\n",
       "      <td>0.000031</td>\n",
       "      <td>0.052083</td>\n",
       "      <td>0.000593</td>\n",
       "    </tr>\n",
       "    <tr>\n",
       "      <th>05</th>\n",
       "      <td>Hautes-Alpes</td>\n",
       "      <td>POLYGON ((6.26057 45.12685, 6.26417 45.12641, ...</td>\n",
       "      <td>2020-04-13</td>\n",
       "      <td>49</td>\n",
       "      <td>13</td>\n",
       "      <td>70</td>\n",
       "      <td>3</td>\n",
       "      <td>0.118110</td>\n",
       "      <td>11.9</td>\n",
       "      <td>0.000021</td>\n",
       "      <td>0.025210</td>\n",
       "      <td>0.000844</td>\n",
       "    </tr>\n",
       "  </tbody>\n",
       "</table>\n",
       "</div>"
      ],
      "text/plain": [
       "                          nom  \\\n",
       "code                            \n",
       "01                        Ain   \n",
       "02                      Aisne   \n",
       "03                     Allier   \n",
       "04    Alpes-de-Haute-Provence   \n",
       "05               Hautes-Alpes   \n",
       "\n",
       "                                               geometry        jour  hosp  \\\n",
       "code                                                                        \n",
       "01    POLYGON ((4.78021 46.17668, 4.78024 46.18905, ...  2020-04-13   120   \n",
       "02    POLYGON ((3.17296 50.01131, 3.17382 50.01186, ...  2020-04-13   286   \n",
       "03    POLYGON ((3.03207 46.79491, 3.03424 46.79080, ...  2020-04-13    58   \n",
       "04    POLYGON ((5.67604 44.19143, 5.67817 44.19051, ...  2020-04-13    33   \n",
       "05    POLYGON ((6.26057 45.12685, 6.26417 45.12641, ...  2020-04-13    49   \n",
       "\n",
       "      rea  rad   dc  dc/densite  people older than 75 year (%)  dc/population  \\\n",
       "code                                                                            \n",
       "01     30  139   44    0.401094                            8.3       0.000070   \n",
       "02     44  288  147    2.010944                            9.3       0.000273   \n",
       "03     20   82   13    0.279570                           13.8       0.000038   \n",
       "04      4   63    5    0.213675                           12.7       0.000031   \n",
       "05     13   70    3    0.118110                           11.9       0.000021   \n",
       "\n",
       "      dc/cumul hospitalise  cumul hopitalise / population  \n",
       "code                                                       \n",
       "01                0.169884                       0.000410  \n",
       "02                0.256098                       0.001066  \n",
       "03                0.092857                       0.000410  \n",
       "04                0.052083                       0.000593  \n",
       "05                0.025210                       0.000844  "
      ]
     },
     "execution_count": 151,
     "metadata": {},
     "output_type": "execute_result"
    }
   ],
   "source": [
    "daily_coronavirus = dict_coronavirus[jour]\n",
    "daily_coronavirus.head()"
   ]
  },
  {
   "cell_type": "markdown",
   "metadata": {},
   "source": [
    " ## Calcul de risque"
   ]
  },
  {
   "cell_type": "markdown",
   "metadata": {},
   "source": [
    "#### demographie"
   ]
  },
  {
   "cell_type": "code",
   "execution_count": 156,
   "metadata": {},
   "outputs": [
    {
     "data": {
      "text/html": [
       "<div>\n",
       "<style scoped>\n",
       "    .dataframe tbody tr th:only-of-type {\n",
       "        vertical-align: middle;\n",
       "    }\n",
       "\n",
       "    .dataframe tbody tr th {\n",
       "        vertical-align: top;\n",
       "    }\n",
       "\n",
       "    .dataframe thead th {\n",
       "        text-align: right;\n",
       "    }\n",
       "</style>\n",
       "<table border=\"1\" class=\"dataframe\">\n",
       "  <thead>\n",
       "    <tr style=\"text-align: right;\">\n",
       "      <th></th>\n",
       "      <th>age_risque</th>\n",
       "    </tr>\n",
       "    <tr>\n",
       "      <th>code</th>\n",
       "      <th></th>\n",
       "    </tr>\n",
       "  </thead>\n",
       "  <tbody>\n",
       "    <tr>\n",
       "      <th>01</th>\n",
       "      <td>1</td>\n",
       "    </tr>\n",
       "    <tr>\n",
       "      <th>02</th>\n",
       "      <td>2</td>\n",
       "    </tr>\n",
       "    <tr>\n",
       "      <th>03</th>\n",
       "      <td>4</td>\n",
       "    </tr>\n",
       "    <tr>\n",
       "      <th>04</th>\n",
       "      <td>4</td>\n",
       "    </tr>\n",
       "    <tr>\n",
       "      <th>05</th>\n",
       "      <td>3</td>\n",
       "    </tr>\n",
       "    <tr>\n",
       "      <th>...</th>\n",
       "      <td>...</td>\n",
       "    </tr>\n",
       "    <tr>\n",
       "      <th>971</th>\n",
       "      <td>2</td>\n",
       "    </tr>\n",
       "    <tr>\n",
       "      <th>972</th>\n",
       "      <td>4</td>\n",
       "    </tr>\n",
       "    <tr>\n",
       "      <th>973</th>\n",
       "      <td>1</td>\n",
       "    </tr>\n",
       "    <tr>\n",
       "      <th>974</th>\n",
       "      <td>1</td>\n",
       "    </tr>\n",
       "    <tr>\n",
       "      <th>976</th>\n",
       "      <td>1</td>\n",
       "    </tr>\n",
       "  </tbody>\n",
       "</table>\n",
       "<p>101 rows × 1 columns</p>\n",
       "</div>"
      ],
      "text/plain": [
       "      age_risque\n",
       "code            \n",
       "01             1\n",
       "02             2\n",
       "03             4\n",
       "04             4\n",
       "05             3\n",
       "...          ...\n",
       "971            2\n",
       "972            4\n",
       "973            1\n",
       "974            1\n",
       "976            1\n",
       "\n",
       "[101 rows x 1 columns]"
      ]
     },
     "execution_count": 156,
     "metadata": {},
     "output_type": "execute_result"
    }
   ],
   "source": [
    "# Part des 75 ans ou plus (en %)\n",
    "\n",
    "cat_0 = 0\n",
    "#Risque = 1\n",
    "cat_1 = 9.000000 \n",
    "#Risque = 2\n",
    "cat_2 = 10.600000\n",
    "#Risque = 3\n",
    "cat_3 = 12.500000\n",
    "#Risque = 4  \n",
    "\n",
    "df_temp = df_de1.drop(['Ensemble','Part des femmes (en %)', 'Part des hommes (en %)','Part des 0 à 24 ans (en %)', 'Part des 25 à 59 ans (en %)', 'Part des 60 ans ou plus (en %)'], axis = 1)\n",
    "x = df_temp['dont part des 75 ans ou plus (en %)']\n",
    "df_temp['age_risque'] = df_temp['dont part des 75 ans ou plus (en %)'].apply(lambda x : 1 if x < cat_1 else (2 if x > cat_1 and x < cat_2 else (3 if x > cat_2 and x < cat_3 else 4)))\n",
    "df_temp = df_temp.drop(['dont part des 75 ans ou plus (en %)'], axis = 1)\n",
    "df_temp"
   ]
  },
  {
   "cell_type": "markdown",
   "metadata": {},
   "source": [
    "#### contamination"
   ]
  },
  {
   "cell_type": "code",
   "execution_count": 157,
   "metadata": {},
   "outputs": [],
   "source": [
    "# Cumul hospitalisé par rapport à la population\n",
    "\n",
    "cat_0 = 0\n",
    "#Risque = 1\n",
    "cat_1 = 0.000284\n",
    "#Risque = 2\n",
    "cat_2 = 0.000494\n",
    "#Risque =  3\n",
    "cat_3 = 0.000898\n",
    "#Risque = 3\n",
    "\n",
    "x1 = dict_coronavirus[max]['cumul hopitalise / population']\n",
    "df_temp['contamination_risque'] = dict_coronavirus[max]['cumul hopitalise / population'].apply(lambda x : 4 if x < cat_1 else (3 if x > cat_1 and x < cat_2 else (2 if x > cat_2 and x < cat_3 else 1)))"
   ]
  },
  {
   "cell_type": "code",
   "execution_count": 158,
   "metadata": {},
   "outputs": [],
   "source": [
    " df_temp['score'] = df_temp['age_risque'] * df_temp['contamination_risque']"
   ]
  },
  {
   "cell_type": "code",
   "execution_count": 159,
   "metadata": {},
   "outputs": [
    {
     "data": {
      "text/html": [
       "<div>\n",
       "<style scoped>\n",
       "    .dataframe tbody tr th:only-of-type {\n",
       "        vertical-align: middle;\n",
       "    }\n",
       "\n",
       "    .dataframe tbody tr th {\n",
       "        vertical-align: top;\n",
       "    }\n",
       "\n",
       "    .dataframe thead th {\n",
       "        text-align: right;\n",
       "    }\n",
       "</style>\n",
       "<table border=\"1\" class=\"dataframe\">\n",
       "  <thead>\n",
       "    <tr style=\"text-align: right;\">\n",
       "      <th></th>\n",
       "      <th>nom</th>\n",
       "      <th>geometry</th>\n",
       "      <th>age_risque</th>\n",
       "      <th>contamination_risque</th>\n",
       "      <th>score</th>\n",
       "    </tr>\n",
       "  </thead>\n",
       "  <tbody>\n",
       "    <tr>\n",
       "      <th>01</th>\n",
       "      <td>Ain</td>\n",
       "      <td>POLYGON ((4.78021 46.17668, 4.78024 46.18905, ...</td>\n",
       "      <td>1</td>\n",
       "      <td>3</td>\n",
       "      <td>3</td>\n",
       "    </tr>\n",
       "    <tr>\n",
       "      <th>02</th>\n",
       "      <td>Aisne</td>\n",
       "      <td>POLYGON ((3.17296 50.01131, 3.17382 50.01186, ...</td>\n",
       "      <td>2</td>\n",
       "      <td>1</td>\n",
       "      <td>2</td>\n",
       "    </tr>\n",
       "    <tr>\n",
       "      <th>03</th>\n",
       "      <td>Allier</td>\n",
       "      <td>POLYGON ((3.03207 46.79491, 3.03424 46.79080, ...</td>\n",
       "      <td>4</td>\n",
       "      <td>3</td>\n",
       "      <td>12</td>\n",
       "    </tr>\n",
       "    <tr>\n",
       "      <th>04</th>\n",
       "      <td>Alpes-de-Haute-Provence</td>\n",
       "      <td>POLYGON ((5.67604 44.19143, 5.67817 44.19051, ...</td>\n",
       "      <td>4</td>\n",
       "      <td>2</td>\n",
       "      <td>8</td>\n",
       "    </tr>\n",
       "    <tr>\n",
       "      <th>05</th>\n",
       "      <td>Hautes-Alpes</td>\n",
       "      <td>POLYGON ((6.26057 45.12685, 6.26417 45.12641, ...</td>\n",
       "      <td>3</td>\n",
       "      <td>2</td>\n",
       "      <td>6</td>\n",
       "    </tr>\n",
       "    <tr>\n",
       "      <th>...</th>\n",
       "      <td>...</td>\n",
       "      <td>...</td>\n",
       "      <td>...</td>\n",
       "      <td>...</td>\n",
       "      <td>...</td>\n",
       "    </tr>\n",
       "    <tr>\n",
       "      <th>971</th>\n",
       "      <td>Guadeloupe</td>\n",
       "      <td>MULTIPOLYGON (((-61.79038 16.16682, -61.79164 ...</td>\n",
       "      <td>2</td>\n",
       "      <td>4</td>\n",
       "      <td>8</td>\n",
       "    </tr>\n",
       "    <tr>\n",
       "      <th>972</th>\n",
       "      <td>Martinique</td>\n",
       "      <td>MULTIPOLYGON (((-60.86733 14.38867, -60.86802 ...</td>\n",
       "      <td>4</td>\n",
       "      <td>4</td>\n",
       "      <td>16</td>\n",
       "    </tr>\n",
       "    <tr>\n",
       "      <th>973</th>\n",
       "      <td>Guyane</td>\n",
       "      <td>MULTIPOLYGON (((-53.87049 5.74494, -53.86464 5...</td>\n",
       "      <td>1</td>\n",
       "      <td>4</td>\n",
       "      <td>4</td>\n",
       "    </tr>\n",
       "    <tr>\n",
       "      <th>974</th>\n",
       "      <td>La Réunion</td>\n",
       "      <td>MULTIPOLYGON (((55.56891 -21.37670, 55.56843 -...</td>\n",
       "      <td>1</td>\n",
       "      <td>4</td>\n",
       "      <td>4</td>\n",
       "    </tr>\n",
       "    <tr>\n",
       "      <th>976</th>\n",
       "      <td>Mayotte</td>\n",
       "      <td>MULTIPOLYGON (((45.04101 -12.64686, 45.04139 -...</td>\n",
       "      <td>1</td>\n",
       "      <td>4</td>\n",
       "      <td>4</td>\n",
       "    </tr>\n",
       "  </tbody>\n",
       "</table>\n",
       "<p>101 rows × 5 columns</p>\n",
       "</div>"
      ],
      "text/plain": [
       "                         nom  \\\n",
       "01                       Ain   \n",
       "02                     Aisne   \n",
       "03                    Allier   \n",
       "04   Alpes-de-Haute-Provence   \n",
       "05              Hautes-Alpes   \n",
       "..                       ...   \n",
       "971               Guadeloupe   \n",
       "972               Martinique   \n",
       "973                   Guyane   \n",
       "974               La Réunion   \n",
       "976                  Mayotte   \n",
       "\n",
       "                                              geometry  age_risque  \\\n",
       "01   POLYGON ((4.78021 46.17668, 4.78024 46.18905, ...           1   \n",
       "02   POLYGON ((3.17296 50.01131, 3.17382 50.01186, ...           2   \n",
       "03   POLYGON ((3.03207 46.79491, 3.03424 46.79080, ...           4   \n",
       "04   POLYGON ((5.67604 44.19143, 5.67817 44.19051, ...           4   \n",
       "05   POLYGON ((6.26057 45.12685, 6.26417 45.12641, ...           3   \n",
       "..                                                 ...         ...   \n",
       "971  MULTIPOLYGON (((-61.79038 16.16682, -61.79164 ...           2   \n",
       "972  MULTIPOLYGON (((-60.86733 14.38867, -60.86802 ...           4   \n",
       "973  MULTIPOLYGON (((-53.87049 5.74494, -53.86464 5...           1   \n",
       "974  MULTIPOLYGON (((55.56891 -21.37670, 55.56843 -...           1   \n",
       "976  MULTIPOLYGON (((45.04101 -12.64686, 45.04139 -...           1   \n",
       "\n",
       "     contamination_risque  score  \n",
       "01                      3      3  \n",
       "02                      1      2  \n",
       "03                      3     12  \n",
       "04                      2      8  \n",
       "05                      2      6  \n",
       "..                    ...    ...  \n",
       "971                     4      8  \n",
       "972                     4     16  \n",
       "973                     4      4  \n",
       "974                     4      4  \n",
       "976                     4      4  \n",
       "\n",
       "[101 rows x 5 columns]"
      ]
     },
     "execution_count": 159,
     "metadata": {},
     "output_type": "execute_result"
    }
   ],
   "source": [
    "df_risque = pd.concat([f,df_temp], axis = 1)\n",
    "df_risque"
   ]
  },
  {
   "cell_type": "markdown",
   "metadata": {},
   "source": [
    "### Visualisation"
   ]
  },
  {
   "cell_type": "markdown",
   "metadata": {},
   "source": [
    "### Map 2D"
   ]
  },
  {
   "cell_type": "markdown",
   "metadata": {},
   "source": [
    "#### Décés"
   ]
  },
  {
   "cell_type": "code",
   "execution_count": 121,
   "metadata": {},
   "outputs": [],
   "source": [
    "%run config_2D.py\n",
    "config_2D = config"
   ]
  },
  {
   "cell_type": "code",
   "execution_count": 122,
   "metadata": {},
   "outputs": [
    {
     "name": "stdout",
     "output_type": "stream",
     "text": [
      "User Guide: https://github.com/keplergl/kepler.gl/blob/master/docs/keplergl-jupyter/user-guide.md\n"
     ]
    },
    {
     "data": {
      "application/vnd.jupyter.widget-view+json": {
       "model_id": "c5e99714f3e44c42b8e86378a5b69528",
       "version_major": 2,
       "version_minor": 0
      },
      "text/plain": [
       "KeplerGl(config={'version': 'v1', 'config': {'visState': {'filters': [], 'layers': [{'id': 'eh1a0e', 'type': '…"
      ]
     },
     "metadata": {},
     "output_type": "display_data"
    }
   ],
   "source": [
    "map_coronavirus_2D = KeplerGl(height=500, config = config)\n",
    "map_coronavirus_2D.add_data(dict_coronavirus['2020-04-13'], name ='coronavirus')\n",
    "map_coronavirus_2D"
   ]
  },
  {
   "cell_type": "code",
   "execution_count": 123,
   "metadata": {},
   "outputs": [],
   "source": [
    "config_2D = map_coronavirus_2D.config"
   ]
  },
  {
   "cell_type": "code",
   "execution_count": 124,
   "metadata": {},
   "outputs": [],
   "source": [
    "# Save map_1 config to a file\n",
    "with open('config_2D.py', 'w') as f:\n",
    "    f.write('config = {}'.format(config_2D))"
   ]
  },
  {
   "cell_type": "code",
   "execution_count": 125,
   "metadata": {},
   "outputs": [],
   "source": [
    "# # this will save current map\n",
    "# map_coronavirus_2D.save_to_html(file_name='map_coronavirus_2D.html')"
   ]
  },
  {
   "cell_type": "markdown",
   "metadata": {},
   "source": [
    "#### Risques"
   ]
  },
  {
   "cell_type": "code",
   "execution_count": 126,
   "metadata": {},
   "outputs": [],
   "source": [
    "%run config_risque.py\n",
    "config_risque = config"
   ]
  },
  {
   "cell_type": "code",
   "execution_count": 127,
   "metadata": {},
   "outputs": [
    {
     "name": "stdout",
     "output_type": "stream",
     "text": [
      "User Guide: https://github.com/keplergl/kepler.gl/blob/master/docs/keplergl-jupyter/user-guide.md\n"
     ]
    },
    {
     "data": {
      "application/vnd.jupyter.widget-view+json": {
       "model_id": "0134af7e0f73479c80e27b8998a79779",
       "version_major": 2,
       "version_minor": 0
      },
      "text/plain": [
       "KeplerGl(config={'version': 'v1', 'config': {'visState': {'filters': [], 'layers': [{'id': 's2l46au', 'type': …"
      ]
     },
     "metadata": {},
     "output_type": "display_data"
    }
   ],
   "source": [
    "map_risque = KeplerGl(height=500, config = config_risque)\n",
    "map_risque.add_data(df_risque, name = 'risque')\n",
    "map_risque"
   ]
  },
  {
   "cell_type": "code",
   "execution_count": 136,
   "metadata": {},
   "outputs": [],
   "source": [
    "config_risque = map_risque.config"
   ]
  },
  {
   "cell_type": "code",
   "execution_count": 137,
   "metadata": {},
   "outputs": [],
   "source": [
    "# Save map_1 config to a file\n",
    "with open('config_risque.py', 'w') as f:\n",
    "    f.write('config = {}'.format(config_risque))"
   ]
  },
  {
   "cell_type": "code",
   "execution_count": 138,
   "metadata": {},
   "outputs": [
    {
     "name": "stdout",
     "output_type": "stream",
     "text": [
      "Map saved to map_risque.html!\n"
     ]
    }
   ],
   "source": [
    "# this will save current map\n",
    "map_risque.save_to_html(file_name='map_risque.html')"
   ]
  },
  {
   "cell_type": "markdown",
   "metadata": {},
   "source": [
    "### Map 3D"
   ]
  },
  {
   "cell_type": "code",
   "execution_count": 131,
   "metadata": {},
   "outputs": [],
   "source": [
    "%run config_3D.py\n",
    "config_3D = config"
   ]
  },
  {
   "cell_type": "code",
   "execution_count": 132,
   "metadata": {
    "scrolled": false
   },
   "outputs": [
    {
     "name": "stdout",
     "output_type": "stream",
     "text": [
      "User Guide: https://github.com/keplergl/kepler.gl/blob/master/docs/keplergl-jupyter/user-guide.md\n"
     ]
    },
    {
     "data": {
      "application/vnd.jupyter.widget-view+json": {
       "model_id": "22a739356aad4d559366e88cbf87921b",
       "version_major": 2,
       "version_minor": 0
      },
      "text/plain": [
       "KeplerGl(config={'version': 'v1', 'config': {'visState': {'filters': [], 'layers': [{'id': 'eh1a0e', 'type': '…"
      ]
     },
     "metadata": {},
     "output_type": "display_data"
    }
   ],
   "source": [
    "map_coronavirus_3D = KeplerGl(height=500, config = config_3D)\n",
    "map_coronavirus_3D.add_data(daily_coronavirus, name ='coronavirus')\n",
    "map_coronavirus_3D"
   ]
  },
  {
   "cell_type": "code",
   "execution_count": 133,
   "metadata": {},
   "outputs": [],
   "source": [
    "config_3D = map_coronavirus_3D.config"
   ]
  },
  {
   "cell_type": "code",
   "execution_count": 134,
   "metadata": {},
   "outputs": [],
   "source": [
    "# Save map_1 config to a file\n",
    "with open('config_3D.py', 'w') as f:\n",
    "    f.write('config = {}'.format(config_3D))"
   ]
  },
  {
   "cell_type": "code",
   "execution_count": 135,
   "metadata": {},
   "outputs": [
    {
     "name": "stdout",
     "output_type": "stream",
     "text": [
      "Map saved to map_coronavirus_3D.html!\n"
     ]
    }
   ],
   "source": [
    "# this will save current map\n",
    "map_coronavirus_3D.save_to_html(file_name='map_coronavirus_3D.html')"
   ]
  }
 ],
 "metadata": {
  "kernelspec": {
   "display_name": "Python 3",
   "language": "python",
   "name": "python3"
  },
  "language_info": {
   "codemirror_mode": {
    "name": "ipython",
    "version": 3
   },
   "file_extension": ".py",
   "mimetype": "text/x-python",
   "name": "python",
   "nbconvert_exporter": "python",
   "pygments_lexer": "ipython3",
   "version": "3.8.2"
  }
 },
 "nbformat": 4,
 "nbformat_minor": 4
}
